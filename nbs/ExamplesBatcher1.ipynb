{
 "cells": [
  {
   "cell_type": "code",
   "execution_count": 1,
   "metadata": {},
   "outputs": [
    {
     "name": "stdout",
     "output_type": "stream",
     "text": [
      "Installing packages:\n",
      "\t.package(path: \"~/git/SwiftData\")\n",
      "\t\tBatcher1\n",
      "With SwiftPM flags: []\n",
      "Working in: /tmp/tmpae8pqg8q/swift-install\n",
      "/home/sgugger/swift/usr/bin/swift-build: /home/sgugger/anaconda3/lib/libcurl.so.4: no version information available (required by /home/sgugger/swift/usr/lib/swift/linux/libFoundationNetworking.so)\n",
      "[1/2] Compiling jupyterInstalledPackages jupyterInstalledPackages.swift\n",
      "[2/3] Merging module jupyterInstalledPackages\n",
      "Initializing Swift...\n",
      "Installation complete!\n"
     ]
    }
   ],
   "source": [
    "%install-location $cwd/swift-install\n",
    "%install '.package(path: \"~/git/SwiftData\")' Batcher1"
   ]
  },
  {
   "cell_type": "code",
   "execution_count": 2,
   "metadata": {},
   "outputs": [],
   "source": [
    "import TensorFlow\n",
    "import Batcher1"
   ]
  },
  {
   "cell_type": "code",
   "execution_count": 3,
   "metadata": {},
   "outputs": [
    {
     "name": "stdout",
     "output_type": "stream",
     "text": [
      "[64, 224, 224, 3]\n",
      "[64, 224, 224, 3]\n",
      "[64, 224, 224, 3]\n",
      "[64, 224, 224, 3]\n",
      "[64, 224, 224, 3]\n",
      "[64, 224, 224, 3]\n",
      "[64, 224, 224, 3]\n",
      "[64, 224, 224, 3]\n"
     ]
    }
   ],
   "source": [
    "// Base use\n",
    "// Some raw items (for instance filenames)\n",
    "let rawItems = 0..<512\n",
    "// A heavy-compute function lazily mapped on it (for instance, opening the images)\n",
    "let dataSet = rawItems.lazy.map { _ in Tensor<Float>(randomNormal: [224, 224, 3]) }\n",
    "// A `Batcher` defined on this:\n",
    "var batcher = Batcher(on: dataSet, batchSize: 64)\n",
    "// Iteration over it (for instance, on epoch of the training loop) \n",
    "batcher.reorder(shuffled: true)\n",
    "for batch in batcher {\n",
    "    print(batch.shape)\n",
    "}"
   ]
  },
  {
   "cell_type": "code",
   "execution_count": 6,
   "metadata": {},
   "outputs": [
    {
     "name": "stdout",
     "output_type": "stream",
     "text": [
      "[64, 190]\r\n",
      "[64, 194]\r\n",
      "[64, 194]\r\n",
      "[64, 198]\r\n",
      "[64, 198]\r\n",
      "[64, 198]\r\n",
      "[64, 200]\r\n",
      "[64, 200]\r\n"
     ]
    }
   ],
   "source": [
    "// Use with padding\n",
    "// Let's create an array of things of various lengths (for instance texts)\n",
    "var dataSet: [Tensor<Int32>] = []\n",
    "for _ in 0..<512 {\n",
    "    dataSet.append(Tensor<Int32>(\n",
    "        randomUniform: [Int.random(in: 1...200)], \n",
    "        lowerBound: Tensor<Int32>(0), \n",
    "        upperBound: Tensor<Int32>(100)\n",
    "    ))\n",
    "}\n",
    "\n",
    "// We need to pad those tensors to make them all the same length.\n",
    "// We could do this in one lazy transform applied beforehand and pad everything\n",
    "// to the same length, but it's not memory-efficient: some batches might need less\n",
    "// padding. So we need to add the padding after having selected the samples we\n",
    "// are trying to batch.\n",
    "func padTensors(tensors: [Tensor<Int32>]) -> [Tensor<Int32>] {\n",
    "    let maxLength = tensors.map{ $0.shape[0] }.max()!\n",
    "    return tensors.map { (t: Tensor<Int32>) -> Tensor<Int32> in \n",
    "        let remaining = Tensor<Int32>(zeros: [maxLength - t.shape[0]])\n",
    "        return Tensor<Int32>(concatenating: [t, remaining])\n",
    "    }\n",
    "} \n",
    "\n",
    "var batcher = Batcher(on: dataSet, batchSize: 64, padSamples: padTensors)\n",
    "batcher.reorder()\n",
    "for b in batcher {\n",
    "    print(b.shape)\n",
    "}"
   ]
  },
  {
   "cell_type": "code",
   "execution_count": 8,
   "metadata": {},
   "outputs": [
    {
     "name": "stdout",
     "output_type": "stream",
     "text": [
      "[64, 200]\n",
      "[64, 173]\n",
      "[64, 151]\n",
      "[64, 125]\n",
      "[64, 104]\n",
      "[64, 79]\n",
      "[64, 54]\n",
      "[64, 29]\n"
     ]
    }
   ],
   "source": [
    "// Use with a sampler\n",
    "// In our previous example, another way to be memory efficient is to batch\n",
    "// samples of roughly the same lengths.\n",
    "func sortSamples(on dataset: [Tensor<Int32>]) -> [Int] {\n",
    "    return Array(0..<dataset.count).sorted { dataset[$0].shape[0] > dataset[$1].shape[0] }\n",
    "}\n",
    "\n",
    "// Just giving a quick example, but there should be a separate function to shuffle a bit \n",
    "// the sorted thing\n",
    "var batcher = Batcher(on: dataSet, batchSize: 64, sampleIndices: sortSamples, padSamples: padTensors)\n",
    "batcher.reorder()\n",
    "for b in batcher {\n",
    "    print(b.shape)\n",
    "}"
   ]
  },
  {
   "cell_type": "code",
   "execution_count": 9,
   "metadata": {},
   "outputs": [],
   "source": [
    "// Sometimes the shuffle method needs to be applied on the dataset itself, \n",
    "// like for language modeling. Here is a base version of that to test\n",
    "// the API allows it.\n",
    "struct DataSet: RandomAccessCollection {\n",
    "    typealias Index = Int\n",
    "    typealias Element = Tensor<Int32>\n",
    "    \n",
    "    let numbers: [[Int]]\n",
    "    let sequenceLength: Int\n",
    "    // The texts all concatenated together\n",
    "    private var stream: [Int]\n",
    "    \n",
    "    var startIndex: Int { return 0 }\n",
    "    var endIndex: Int { return stream.count / sequenceLength }\n",
    "    func index(after i: Int) -> Int { i+1 }\n",
    "    \n",
    "    init(numbers: [[Int]], sequenceLength: Int) {\n",
    "        self.numbers = numbers\n",
    "        self.sequenceLength = sequenceLength\n",
    "        stream = numbers.reduce([], +)\n",
    "    }\n",
    "    \n",
    "    subscript(index: Int) -> Tensor<Int32> {\n",
    "        get { \n",
    "            let i = index * sequenceLength\n",
    "            return Tensor<Int32>(stream[i..<i+sequenceLength].map { Int32($0)} )\n",
    "        }\n",
    "    }\n",
    "    \n",
    "    mutating func shuffle() {\n",
    "        stream = numbers.shuffled().reduce([], +)\n",
    "    }\n",
    "}"
   ]
  },
  {
   "cell_type": "code",
   "execution_count": 10,
   "metadata": {},
   "outputs": [],
   "source": [
    "//Let's create such a DataSet\n",
    "let numbers: [[Int]] = [[1,2,3,4,5], [6,7,8], [9,10,11,12,13,14,15], [16,17,18]]\n",
    "let dataset = DataSet(numbers: numbers, sequenceLength: 3)"
   ]
  },
  {
   "cell_type": "code",
   "execution_count": 11,
   "metadata": {},
   "outputs": [],
   "source": [
    "// This is the shuffle function we will use\n",
    "func internalShuffle(on dataset: inout DataSet, indices: [Int]) -> [Int] {\n",
    "    dataset.shuffle()\n",
    "    return indices\n",
    "}"
   ]
  },
  {
   "cell_type": "code",
   "execution_count": 12,
   "metadata": {},
   "outputs": [
    {
     "name": "stdout",
     "output_type": "stream",
     "text": [
      "[[1, 2, 3],\r\n",
      " [4, 5, 6],\r\n",
      " [7, 8, 9]]\r\n",
      "[[10, 11, 12],\r\n",
      " [13, 14, 15],\r\n",
      " [16, 17, 18]]\r\n"
     ]
    }
   ],
   "source": [
    "//Now let's look at what it gives us:\n",
    "var batcher = Batcher(on: dataset, batchSize: 3, shuffleIndices: internalShuffle)\n",
    "batcher.reorder()\n",
    "for b in batcher {\n",
    "    print(b)\n",
    "}"
   ]
  },
  {
   "cell_type": "code",
   "execution_count": 16,
   "metadata": {},
   "outputs": [
    {
     "name": "stdout",
     "output_type": "stream",
     "text": [
      "[[16, 17, 18],\r\n",
      " [ 6,  7,  8],\r\n",
      " [ 9, 10, 11]]\r\n",
      "[[12, 13, 14],\r\n",
      " [15,  1,  2],\r\n",
      " [ 3,  4,  5]]\r\n"
     ]
    }
   ],
   "source": [
    "batcher.reorder(shuffled: true)\n",
    "for b in batcher {\n",
    "    print(b)\n",
    "}"
   ]
  },
  {
   "cell_type": "code",
   "execution_count": null,
   "metadata": {},
   "outputs": [],
   "source": []
  }
 ],
 "metadata": {
  "jupytext": {
   "split_at_heading": true
  },
  "kernelspec": {
   "display_name": "Swift",
   "language": "swift",
   "name": "swift"
  },
  "language_info": {
   "file_extension": ".swift",
   "mimetype": "text/x-swift",
   "name": "swift",
   "version": ""
  }
 },
 "nbformat": 4,
 "nbformat_minor": 2
}
