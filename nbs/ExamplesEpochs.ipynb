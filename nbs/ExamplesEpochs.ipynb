{
 "cells": [
  {
   "cell_type": "code",
   "execution_count": 1,
   "metadata": {},
   "outputs": [
    {
     "name": "stdout",
     "output_type": "stream",
     "text": [
      "Installing packages:\n",
      "\t.package(path: \"../../..\")\n",
      "\t\tEpochs\n",
      "With SwiftPM flags: []\n",
      "Working in: /tmp/tmpuu5gmkrr/swift-install\n",
      "/home/sgugger/swift/usr/bin/swift-build: /home/sgugger/anaconda3/lib/libcurl.so.4: no version information available (required by /home/sgugger/swift/usr/lib/swift/linux/libFoundationNetworking.so)\n",
      "[1/2] Compiling Epochs Batches.swift\n",
      "[2/4] Compiling Epochs Collatable.swift\n",
      "[3/4] Compiling Epochs Backend.swift\n",
      "[4/5] Merging module Epochs\n",
      "[5/8] Wrapping AST for Epochs for debugging\n",
      "[6/8] Compiling jupyterInstalledPackages jupyterInstalledPackages.swift\n",
      "[7/9] Merging module jupyterInstalledPackages\n",
      "[8/8] Linking libjupyterInstalledPackages.so\n",
      "Initializing Swift...\n",
      "Installation complete!\n"
     ]
    }
   ],
   "source": [
    "%install-location $cwd/swift-install\n",
    "%install '.package(path: \"../../..\")' Epochs"
   ]
  },
  {
   "cell_type": "code",
   "execution_count": 2,
   "metadata": {},
   "outputs": [],
   "source": [
    "import TensorFlow\n",
    "import Epochs"
   ]
  },
  {
   "cell_type": "code",
   "execution_count": 7,
   "metadata": {},
   "outputs": [
    {
     "name": "stdout",
     "output_type": "stream",
     "text": [
      "[64, 224, 224, 3]\n",
      "[64, 224, 224, 3]\n",
      "[64, 224, 224, 3]\n",
      "[64, 224, 224, 3]\n",
      "[64, 224, 224, 3]\n",
      "[64, 224, 224, 3]\n",
      "[64, 224, 224, 3]\n",
      "[64, 224, 224, 3]\n"
     ]
    }
   ],
   "source": [
    "// Base use\n",
    "// Some raw items (for instance filenames)\n",
    "let rawItems = 0..<512\n",
    "// A heavy-compute function lazily mapped on it (for instance, opening the images)\n",
    "let dataSet = rawItems.lazy.map { _ in Tensor<Float>(randomNormal: [224, 224, 3]) }\n",
    "// A `Batches` defined on this:\n",
    "let batches = Batches(on: dataSet, batchSize: 64, makeBatch: defaultMakeBatch)\n",
    "// Iteration over it:\n",
    "for batch in batches {\n",
    "    print(batch.shape)\n",
    "}"
   ]
  },
  {
   "cell_type": "code",
   "execution_count": 8,
   "metadata": {},
   "outputs": [],
   "source": [
    "// Enabling shuffle\n",
    "let batches = Batches(on: dataSet.shuffled(), batchSize: 64, makeBatch: defaultMakeBatch)"
   ]
  },
  {
   "cell_type": "code",
   "execution_count": 21,
   "metadata": {},
   "outputs": [
    {
     "name": "stdout",
     "output_type": "stream",
     "text": [
      "[64, 199]\r\n",
      "[64, 199]\r\n",
      "[64, 200]\r\n",
      "[64, 198]\r\n",
      "[64, 200]\r\n",
      "[64, 200]\r\n",
      "[64, 199]\r\n",
      "[64, 199]\r\n"
     ]
    }
   ],
   "source": [
    "// Use with padding\n",
    "// Let's create an array of things of various lengths (for instance texts)\n",
    "var dataSet: [Tensor<Int32>] = []\n",
    "for _ in 0..<512 {\n",
    "    dataSet.append(Tensor<Int32>(\n",
    "        randomUniform: [Int.random(in: 1...200)], \n",
    "        lowerBound: Tensor<Int32>(0), \n",
    "        upperBound: Tensor<Int32>(100)\n",
    "    ))\n",
    "}\n",
    "\n",
    "// We need to pad those tensors to make them all the same length.\n",
    "// We could do this in one lazy transform applied beforehand and pad everything\n",
    "// to the same length, but it's not memory-efficient: some batches might need less\n",
    "// padding. So we need to add the padding after having selected the samples we\n",
    "// are trying to batch.\n",
    "public func padTensors<Tensors: Collection>(tensors: Tensors) -> [Tensor<Int32>]\n",
    "where Tensors.Element==Tensor<Int32> {\n",
    "    let maxLength = tensors.map{ $0.shape[0] }.max()!\n",
    "    return tensors.map { (t: Tensor<Int32>) -> Tensor<Int32> in \n",
    "        let remaining = Tensor<Int32>(zeros: [maxLength - t.shape[0]])\n",
    "        return Tensor<Int32>(concatenating: [t, remaining])\n",
    "    }\n",
    "}\n",
    "\n",
    "func makeBatchWithPadding<BatchSamples: Collection>(samples: BatchSamples) -> Tensor<Int32>\n",
    "where BatchSamples.Element==Tensor<Int32>\n",
    "{\n",
    "    return .init(collating: padTensors(tensors: samples))\n",
    "}\n",
    "\n",
    "let batches = Batches(on: dataSet, batchSize: 64, makeBatch: makeBatchWithPadding)\n",
    "for b in batches {\n",
    "    print(b.shape)\n",
    "}"
   ]
  },
  {
   "cell_type": "code",
   "execution_count": 27,
   "metadata": {},
   "outputs": [
    {
     "name": "stdout",
     "output_type": "stream",
     "text": [
      "[64, 200]\r\n",
      "[64, 176]\r\n",
      "[64, 155]\r\n",
      "[64, 127]\r\n",
      "[64, 104]\r\n",
      "[64, 78]\r\n",
      "[64, 54]\r\n",
      "[64, 24]\r\n"
     ]
    }
   ],
   "source": [
    "// Use with a sampler\n",
    "// In our previous example, another way to be memory efficient is to batch\n",
    "// samples of roughly the same lengths.\n",
    "let sortedDataset = dataSet.sortedInBatches() { $0.shape[0] > $1.shape[0] }\n",
    "\n",
    "let batches = Batches(on: sortedDataset, batchSize: 64, makeBatch: makeBatchWithPadding)\n",
    "for b in batches {\n",
    "    print(b.shape)\n",
    "}"
   ]
  },
  {
   "cell_type": "code",
   "execution_count": 26,
   "metadata": {},
   "outputs": [
    {
     "name": "stdout",
     "output_type": "stream",
     "text": [
      "[64, 200]\n",
      "[64, 176]\n",
      "[64, 155]\n",
      "[64, 127]\n",
      "[64, 104]\n",
      "[64, 78]\n",
      "[64, 54]\n",
      "[64, 24]\n"
     ]
    }
   ],
   "source": [
    "// When using a `batchSize` we get a bit of shuffle:\n",
    "let sortedDataset = dataSet.shuffled().sortedInBatches(batchSize: 256) { $0.shape[0] > $1.shape[0] }\n",
    "\n",
    "let batches = Batches(on: sortedDataset, batchSize: 64, makeBatch: makeBatchWithPadding)\n",
    "for b in batches {\n",
    "    print(b.shape)\n",
    "}"
   ]
  },
  {
   "cell_type": "code",
   "execution_count": 38,
   "metadata": {},
   "outputs": [],
   "source": [
    "// Sometimes the shuffle method needs to be applied on the dataset itself, \n",
    "// like for language modeling. Here is a base version of that to test\n",
    "// the API allows it.\n",
    "struct DataSet: RandomAccessCollection {\n",
    "    typealias Index = Int\n",
    "    typealias Element = Tensor<Int32>\n",
    "    \n",
    "    let numbers: [[Int]]\n",
    "    let sequenceLength: Int\n",
    "    // The texts all concatenated together\n",
    "    private var stream: [Int]\n",
    "    \n",
    "    var startIndex: Int { return 0 }\n",
    "    var endIndex: Int { return stream.count / sequenceLength }\n",
    "    func index(after i: Int) -> Int { i+1 }\n",
    "    \n",
    "    init(numbers: [[Int]], sequenceLength: Int) {\n",
    "        self.numbers = numbers\n",
    "        self.sequenceLength = sequenceLength\n",
    "        stream = numbers.reduce([], +)\n",
    "    }\n",
    "    \n",
    "    subscript(index: Int) -> Tensor<Int32> {\n",
    "        get { \n",
    "            let i = index * sequenceLength\n",
    "            return Tensor<Int32>(stream[i..<i+sequenceLength].map { Int32($0)} )\n",
    "        }\n",
    "    }\n",
    "}"
   ]
  },
  {
   "cell_type": "code",
   "execution_count": 39,
   "metadata": {},
   "outputs": [],
   "source": [
    "//Let's create such a DataSet\n",
    "let numbers: [[Int]] = [[1,2,3,4,5], [6,7,8], [9,10,11,12,13,14,15], [16,17,18]]\n",
    "let dataset = DataSet(numbers: numbers, sequenceLength: 3)"
   ]
  },
  {
   "cell_type": "code",
   "execution_count": 44,
   "metadata": {},
   "outputs": [],
   "source": [
    "public struct ShufflingTemplate: BatcherTemplate {\n",
    "    public typealias SourceDataSet = DataSet \n",
    "    public func shuffleIndices(on dataset: inout DataSet, indices: [Int]) -> [Int] {\n",
    "        dataset.shuffle()\n",
    "        return indices\n",
    "    }\n",
    "}"
   ]
  },
  {
   "cell_type": "code",
   "execution_count": 45,
   "metadata": {},
   "outputs": [
    {
     "name": "stdout",
     "output_type": "stream",
     "text": [
      "[[1, 2, 3],\r\n",
      " [4, 5, 6],\r\n",
      " [7, 8, 9]]\r\n",
      "[[10, 11, 12],\r\n",
      " [13, 14, 15],\r\n",
      " [16, 17, 18]]\r\n"
     ]
    }
   ],
   "source": [
    "//Now let's look at what it gives us:\n",
    "var batcher = Batcher(with: ShufflingTemplate(), on: dataset, batchSize: 3)\n",
    "batcher.reorder()\n",
    "for b in batcher {\n",
    "    print(b)\n",
    "}"
   ]
  },
  {
   "cell_type": "code",
   "execution_count": 46,
   "metadata": {},
   "outputs": [
    {
     "name": "stdout",
     "output_type": "stream",
     "text": [
      "[[ 9, 10, 11],\r\n",
      " [12, 13, 14],\r\n",
      " [15,  6,  7]]\r\n",
      "[[ 8, 16, 17],\r\n",
      " [18,  1,  2],\r\n",
      " [ 3,  4,  5]]\r\n"
     ]
    }
   ],
   "source": [
    "batcher.reorder(shuffled: true)\n",
    "for b in batcher {\n",
    "    print(b)\n",
    "}"
   ]
  },
  {
   "cell_type": "code",
   "execution_count": null,
   "metadata": {},
   "outputs": [],
   "source": []
  }
 ],
 "metadata": {
  "jupytext": {
   "split_at_heading": true
  },
  "kernelspec": {
   "display_name": "Swift",
   "language": "swift",
   "name": "swift"
  },
  "language_info": {
   "file_extension": ".swift",
   "mimetype": "text/x-swift",
   "name": "swift",
   "version": ""
  }
 },
 "nbformat": 4,
 "nbformat_minor": 2
}
