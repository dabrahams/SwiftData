{
 "cells": [
  {
   "cell_type": "code",
   "execution_count": 1,
   "metadata": {},
   "outputs": [
    {
     "name": "stdout",
     "output_type": "stream",
     "text": [
      "Installing packages:\n",
      "\t.package(path: \"../../..\")\n",
      "\t\tEpochs\n",
      "With SwiftPM flags: []\n",
      "Working in: /tmp/tmp7fghzue1/swift-install\n",
      "/home/sgugger/swift/usr/bin/swift-build: /home/sgugger/anaconda3/lib/libcurl.so.4: no version information available (required by /home/sgugger/swift/usr/lib/swift/linux/libFoundationNetworking.so)\n",
      "[1/2] Compiling Epochs Reindex.swift\n",
      "[2/3] Merging module Epochs\n",
      "[3/6] Wrapping AST for Epochs for debugging\n",
      "[4/6] Compiling jupyterInstalledPackages jupyterInstalledPackages.swift\n",
      "[5/7] Merging module jupyterInstalledPackages\n",
      "[6/6] Linking libjupyterInstalledPackages.so\n",
      "Initializing Swift...\n",
      "Installation complete!\n"
     ]
    }
   ],
   "source": [
    "%install-location $cwd/swift-install\n",
    "%install '.package(path: \"../../..\")' Epochs"
   ]
  },
  {
   "cell_type": "code",
   "execution_count": 2,
   "metadata": {},
   "outputs": [],
   "source": [
    "import TensorFlow\n",
    "import Epochs"
   ]
  },
  {
   "cell_type": "code",
   "execution_count": 3,
   "metadata": {},
   "outputs": [],
   "source": [
    "let rawItems = 0..<512\n",
    "let dataset = rawItems.lazy.map { (x: Int) -> Tensor<Float> in\n",
    "  if x%64 == 0 { print(x) } //To check if it's lazy or not\n",
    "  return Tensor<Float>(randomNormal: [224, 224, 3])\n",
    "}"
   ]
  },
  {
   "cell_type": "code",
   "execution_count": 4,
   "metadata": {},
   "outputs": [
    {
     "name": "stdout",
     "output_type": "stream",
     "text": [
      "0\n",
      "64\n",
      "128\n",
      "192\n",
      "256\n",
      "320\n",
      "384\n",
      "448\n"
     ]
    }
   ],
   "source": [
    "let dataset1 = dataset.shuffled()"
   ]
  },
  {
   "cell_type": "code",
   "execution_count": 5,
   "metadata": {},
   "outputs": [],
   "source": [
    "let dataset2 = ReindexedCollection(dataset).innerShuffled()"
   ]
  },
  {
   "cell_type": "code",
   "execution_count": 6,
   "metadata": {},
   "outputs": [
    {
     "name": "stdout",
     "output_type": "stream",
     "text": [
      "0\n",
      "[64, 224, 224, 3]\n",
      "192\n",
      "[64, 224, 224, 3]\n",
      "128\n",
      "[64, 224, 224, 3]\n",
      "[64, 224, 224, 3]\n",
      "384\n",
      "[64, 224, 224, 3]\n",
      "448\n",
      "[64, 224, 224, 3]\n",
      "320\n",
      "64\n",
      "[64, 224, 224, 3]\n",
      "256\n",
      "[64, 224, 224, 3]\n"
     ]
    }
   ],
   "source": [
    "// A `Batches` defined on this:\n",
    "let batches = Batches(of: 64, from: dataset2, \\.collated)\n",
    "// Iteration over it:\n",
    "for batch in batches {\n",
    "    print(batch.shape)\n",
    "}"
   ]
  },
  {
   "cell_type": "code",
   "execution_count": 7,
   "metadata": {},
   "outputs": [
    {
     "name": "stdout",
     "output_type": "stream",
     "text": [
      "[64, 224, 224, 3]\n",
      "[64, 224, 224, 3]\n",
      "[64, 224, 224, 3]\n",
      "[64, 224, 224, 3]\n",
      "[64, 224, 224, 3]\n",
      "[64, 224, 224, 3]\n",
      "[64, 224, 224, 3]\n",
      "[64, 224, 224, 3]\n"
     ]
    }
   ],
   "source": [
    "// Base use\n",
    "// Some raw items (for instance filenames)\n",
    "let rawItems = 0..<512\n",
    "// A heavy-compute function lazily mapped on it (for instance, opening the images)\n",
    "let dataSet = rawItems.lazy.map { _ in Tensor<Float>(randomNormal: [224, 224, 3]) }\n",
    "// A `Batches` defined on this:\n",
    "let batches = Batches(of: 64, from: dataSet, \\.collated)\n",
    "// Iteration over it:\n",
    "for batch in batches {\n",
    "    print(batch.shape)\n",
    "}"
   ]
  },
  {
   "cell_type": "code",
   "execution_count": 8,
   "metadata": {},
   "outputs": [
    {
     "name": "stdout",
     "output_type": "stream",
     "text": [
      "Batches<Array<Tensor<Float>>, Tensor<Float>>\r\n"
     ]
    }
   ],
   "source": [
    "// Enabling shuffle\n",
    "let batches = Batches(of: 64, from: dataSet.shuffled(), \\.collated)\n",
    "// This should absolutely not be done this way because it traverses the collection:\n",
    "print(type(of: batches))"
   ]
  },
  {
   "cell_type": "code",
   "execution_count": 9,
   "metadata": {},
   "outputs": [
    {
     "name": "stdout",
     "output_type": "stream",
     "text": [
      "Batches<LazyMapSequence<Array<Int>, Tensor<Float>>, Tensor<Float>>\r\n"
     ]
    }
   ],
   "source": [
    "// We need to actually go back to raw collection:\n",
    "let dataSet = rawItems.shuffled().lazy.map { _ -> Tensor<Float> in\n",
    "  return Tensor<Float>(randomNormal: [224, 224, 3])\n",
    "}\n",
    "let batches = Batches(of: 64, from: dataSet, \\.collated)\n",
    "print(type(of: batches))"
   ]
  },
  {
   "cell_type": "code",
   "execution_count": 10,
   "metadata": {},
   "outputs": [
    {
     "name": "stdout",
     "output_type": "stream",
     "text": [
      "Batches<ReindexedCollection<LazyMapSequence<Range<Int>, Tensor<Float>>>, Tensor<Float>>\r\n"
     ]
    }
   ],
   "source": [
    "// ReindexCollection does that for us\n",
    "let dataSet = rawItems.lazy.map { _ -> Tensor<Float> in\n",
    "  return Tensor<Float>(randomNormal: [224, 224, 3])\n",
    "}\n",
    "let batches = Batches(of: 64, from: ReindexedCollection(dataSet), \\.collated)\n",
    "print(type(of: batches))"
   ]
  },
  {
   "cell_type": "code",
   "execution_count": 11,
   "metadata": {},
   "outputs": [
    {
     "name": "stdout",
     "output_type": "stream",
     "text": [
      "[64, 200]\n",
      "[64, 198]\n",
      "[64, 200]\n",
      "[64, 200]\n",
      "[64, 199]\n",
      "[64, 197]\n",
      "[64, 198]\n",
      "[64, 197]\n"
     ]
    }
   ],
   "source": [
    "// Use with padding\n",
    "// Let's create an array of things of various lengths (for instance texts)\n",
    "var dataSet: [Tensor<Int32>] = []\n",
    "for _ in 0..<512 {\n",
    "    dataSet.append(Tensor<Int32>(\n",
    "        randomUniform: [Int.random(in: 1...200)], \n",
    "        lowerBound: Tensor<Int32>(0), \n",
    "        upperBound: Tensor<Int32>(100)\n",
    "    ))\n",
    "}\n",
    "\n",
    "// We need to pad those tensors to make them all the same length.\n",
    "// We could do this in one lazy transform applied beforehand and pad everything\n",
    "// to the same length, but it's not memory-efficient: some batches might need less\n",
    "// padding. So we need to add the padding after having selected the samples we\n",
    "// are trying to batch.\n",
    "let batches = Batches(of: 64, from: dataSet) { $0.paddedAndCollated(with: 0) }\n",
    "for b in batches {\n",
    "    print(b.shape)\n",
    "}"
   ]
  },
  {
   "cell_type": "code",
   "execution_count": 12,
   "metadata": {},
   "outputs": [
    {
     "name": "stdout",
     "output_type": "stream",
     "text": [
      "[64, 200]\n",
      "[64, 179]\n",
      "[64, 149]\n",
      "[64, 123]\n",
      "[64, 99]\n",
      "[64, 71]\n",
      "[64, 45]\n",
      "[64, 25]\n"
     ]
    }
   ],
   "source": [
    "// Use with a sampler\n",
    "// In our previous example, another way to be memory efficient is to batch\n",
    "// samples of roughly the same lengths.\n",
    "let sortedDataset = dataSet.sorted { $0.shape[0] > $1.shape[0] }\n",
    "\n",
    "let batches = Batches(of: 64, from: sortedDataset) { $0.paddedAndCollated(with: 0) }\n",
    "for b in batches {\n",
    "    print(b.shape)\n",
    "}"
   ]
  },
  {
   "cell_type": "code",
   "execution_count": 18,
   "metadata": {},
   "outputs": [
    {
     "name": "stdout",
     "output_type": "stream",
     "text": [
      "[64, 200]\n",
      "[64, 150]\n",
      "[64, 105]\n",
      "[64, 46]\n",
      "[64, 200]\n",
      "[64, 149]\n",
      "[64, 94]\n",
      "[64, 45]\n"
     ]
    }
   ],
   "source": [
    "// When using a `batchSize` we get a bit of shuffle:\n",
    "// This can all be applied on a lazy collection without breaking the lasziness as long as the sort function does not access the dataset\n",
    "var sortedDataset = ReindexedCollection(dataSet).innerShuffled().sortedInBatches(of: 256) { dataSet[$0].shape[0] > dataSet[$1].shape[0] }\n",
    "\n",
    "let batches = Batches(of: 64, from: sortedDataset) { $0.paddedAndCollated(with: 0) }\n",
    "for b in batches {\n",
    "    print(b.shape)\n",
    "}"
   ]
  },
  {
   "cell_type": "code",
   "execution_count": 19,
   "metadata": {},
   "outputs": [],
   "source": [
    "struct LanguageModelDataset<Texts: RandomAccessCollection> where Texts.Element == [Int] {\n",
    "    /// The underlying collection of texts\n",
    "    public var texts: Texts\n",
    "    /// The length of the samples returned when indexing\n",
    "    private let sequenceLength: Int\n",
    "    // The texts all concatenated together\n",
    "    private var stream: [Int]\n",
    "    \n",
    "    init(texts: Texts, sequenceLength: Int) {\n",
    "        self.texts = texts\n",
    "        self.sequenceLength = sequenceLength\n",
    "        stream = texts.reduce([], +)\n",
    "    }\n",
    "}"
   ]
  },
  {
   "cell_type": "code",
   "execution_count": 20,
   "metadata": {},
   "outputs": [],
   "source": [
    "extension LanguageModelDataset: RandomAccessCollection {\n",
    "    public typealias Index = Int\n",
    "    public typealias Element = Tensor<Int32>\n",
    "    \n",
    "    public var startIndex: Int { return 0 }\n",
    "    public var endIndex: Int { return stream.count / sequenceLength }\n",
    "    public func index(after i: Int) -> Int { i+1 }\n",
    "    \n",
    "    public subscript(index: Int) -> Tensor<Int32> {\n",
    "        get { \n",
    "            let i = index * sequenceLength\n",
    "            return Tensor<Int32>(stream[i..<i+sequenceLength].map { Int32($0)} )\n",
    "        }\n",
    "    }\n",
    "}"
   ]
  },
  {
   "cell_type": "code",
   "execution_count": 21,
   "metadata": {},
   "outputs": [],
   "source": [
    "//Let's create such a DataSet\n",
    "let numbers: [[Int]] = [[1,2,3,4,5], [6,7,8], [9,10,11,12,13,14,15], [16,17,18]]\n",
    "var dataset = LanguageModelDataset(texts: numbers, sequenceLength: 3)"
   ]
  },
  {
   "cell_type": "code",
   "execution_count": 22,
   "metadata": {},
   "outputs": [
    {
     "name": "stdout",
     "output_type": "stream",
     "text": [
      "[[1, 2, 3],\r\n",
      " [4, 5, 6],\r\n",
      " [7, 8, 9]]\r\n",
      "[[10, 11, 12],\r\n",
      " [13, 14, 15],\r\n",
      " [16, 17, 18]]\r\n"
     ]
    }
   ],
   "source": [
    "//Now let's look at what it gives us:\n",
    "let batches = Batches(of: 3, from: dataset, \\.collated)\n",
    "for b in batches {\n",
    "    print(b)\n",
    "}"
   ]
  },
  {
   "cell_type": "code",
   "execution_count": 23,
   "metadata": {},
   "outputs": [
    {
     "name": "stdout",
     "output_type": "stream",
     "text": [
      "[[ 1,  2,  3],\r\n",
      " [ 4,  5, 16],\r\n",
      " [17, 18,  9]]\r\n",
      "[[10, 11, 12],\r\n",
      " [13, 14, 15],\r\n",
      " [ 6,  7,  8]]\r\n"
     ]
    }
   ],
   "source": [
    "var dataset = LanguageModelDataset(texts: numbers.shuffled(), sequenceLength: 3)\n",
    "let batches = Batches(of: 3, from: dataset, \\.collated)\n",
    "for b in batches {\n",
    "    print(b)\n",
    "}"
   ]
  },
  {
   "cell_type": "markdown",
   "metadata": {},
   "source": [
    "## `BatchesGenerator`"
   ]
  },
  {
   "cell_type": "code",
   "execution_count": null,
   "metadata": {},
   "outputs": [],
   "source": [
    "public protocol RandomizableCollection"
   ]
  },
  {
   "cell_type": "code",
   "execution_count": 41,
   "metadata": {},
   "outputs": [],
   "source": [
    "public protocol BatchesMaker {\n",
    "  associatedtype Samples: Collection\n",
    "  associatedtype Batch\n",
    "\n",
    "  func makeTraining(of batchSize: Int, from: Samples) -> Batches<Samples, Batch>\n",
    "  func makeValidation(of batchSize: Int, from: Samples) -> Batches<Samples, Batch>\n",
    "}"
   ]
  },
  {
   "cell_type": "code",
   "execution_count": 42,
   "metadata": {},
   "outputs": [],
   "source": [
    "public struct BatchesGenerator1<Maker: BatchesMaker> {\n",
    "  /// Training dataset\n",
    "  public let training: Maker.Samples\n",
    "  /// Validation dataset\n",
    "  public let validation: Maker.Samples\n",
    "  /// The batch size\n",
    "  public var batchSize: Int\n",
    "  /// How to make a `Batch` from a slice of `BatchSampleSet`\n",
    "  private let maker: Maker\n",
    "  \n",
    "  /// Creates an instance that will be able to generate `Batches` of `batchSize`\n",
    "  /// from `trainingSamples`and `validationSamples`, lazily transformed by \n",
    "  /// `transform`.\n",
    "  public init(\n",
    "    of batchSize: Int,\n",
    "    from training: Maker.Samples, \n",
    "    and validation: Maker.Samples,\n",
    "    with maker: Maker\n",
    "  ) {\n",
    "    self.batchSize = batchSize\n",
    "    self.training = training\n",
    "    self.validation = validation\n",
    "    self.maker = maker\n",
    "  }\n",
    "    \n",
    "  /// Returns new `Batches` for training and validation, with a reshuffle of \n",
    "  /// the training data\n",
    "  public func nextEpoch() -> (\n",
    "    training: Batches<Maker.Samples, Maker.Batch>, \n",
    "    validation: Batches<Maker.Samples, Maker.Batch>\n",
    "  ) {\n",
    "  return (\n",
    "    training: maker.makeTraining(of: batchSize, from: training), \n",
    "    validation: maker.makeValidation(of: batchSize, from: training))\n",
    "  }\n",
    "}"
   ]
  },
  {
   "cell_type": "code",
   "execution_count": 51,
   "metadata": {},
   "outputs": [
    {
     "ename": "",
     "evalue": "",
     "output_type": "error",
     "traceback": [
      "error: <Cell 51>:1:15: error: type 'LazyMapBatchesMaker<RawSample, ProcessedSamples, Batch>' does not conform to protocol 'BatchesMaker'\npublic struct LazyMapBatchesMaker<RawSample, ProcessedSamples: Collection, Batch>: BatchesMaker {\n              ^\n\n<Cell 51>:12:15: note: candidate has non-matching type '<RawSample, ProcessedSamples, Batch> (of: Int, from: [RawSample]) -> Batches<ProcessedSamples, Batch>' [with Batch = Batch]\n  public func makeTraining(of batchSize: Int, from samples: [RawSample]) -> Batches<ProcessedSamples, Batch> {\n              ^\n\n<Cell 51>:16:15: note: candidate has non-matching type '<RawSample, ProcessedSamples, Batch> (of: Int, from: [RawSample]) -> Batches<ProcessedSamples, Batch>' [with Batch = Batch]\n  public func makeValidation(of batchSize: Int, from samples: [RawSample]) -> Batches<ProcessedSamples, Batch> {\n              ^\n\n"
     ]
    }
   ],
   "source": [
    "public struct LazyMapBatchesMaker<RawSample, ProcessedSamples: Collection, Batch>: BatchesMaker {\n",
    "  public typealias Samples = [RawSample]\n",
    "  private let transform: ([RawSample]) -> ProcessedSamples\n",
    "  private let makeBatch: (ProcessedSamples.SubSequence) -> Batch\n",
    " \n",
    "  public init(makeBatch: @escaping (ProcessedSamples.SubSequence) -> Batch, \n",
    "              _ transform: @escaping ([RawSample]) -> ProcessedSamples) {\n",
    "    self.transform = transform\n",
    "    self.makeBatch = makeBatch\n",
    "  }\n",
    "    \n",
    "  public func makeTraining(of batchSize: Int, from samples: [RawSample]) -> Batches<ProcessedSamples, Batch> {\n",
    "    return Batches(of: batchSize, from: transform(samples.shuffled()), makeBatch)\n",
    "  }\n",
    "    \n",
    "  public func makeValidation(of batchSize: Int, from samples: [RawSample]) -> Batches<ProcessedSamples, Batch> {\n",
    "    return Batches(of: batchSize, from: transform(samples), makeBatch)\n",
    "  }\n",
    "}"
   ]
  },
  {
   "cell_type": "code",
   "execution_count": 32,
   "metadata": {},
   "outputs": [],
   "source": [
    "public struct Samples1<DataSet: Collection>: SamplingProtocol {\n",
    "  /// The underlying items\n",
    "  private let items: DataSet\n",
    "  \n",
    "  /// Creates an instance from `samples`.\n",
    "  public init(on samples: DataSet) {\n",
    "    self.items = samples\n",
    "  }\n",
    "    \n",
    "  /// A non-shuffled version of `Self`\n",
    "  public var samples: ReindexedCollection<[DataSet.Index], DataSet> { ReindexedCollection(reindex: Array(items.indices), base: items) }\n",
    "  /// A shuffled version of `Self`\n",
    "  public var shuffled: ReindexedCollection<[DataSet.Index], DataSet> { items.innerShuffled() }\n",
    "}"
   ]
  },
  {
   "cell_type": "code",
   "execution_count": 21,
   "metadata": {},
   "outputs": [],
   "source": [
    "// Base use\n",
    "// Some raw items (for instance filenames)\n",
    "let rawItems = 0..<512\n",
    "// A heavy-compute function lazily mapped on it (for instance, opening the images)\n",
    "let trainingSet = Samples(on: Array(0..<512)) {  $0.lazy.map { _ in Tensor<Float>(randomNormal: [224, 224, 3]) } }\n",
    "let validationSet = Samples(on: Array(0..<256)) {  $0.lazy.map { _ in Tensor<Float>(randomNormal: [224, 224, 3]) } }"
   ]
  },
  {
   "cell_type": "code",
   "execution_count": 22,
   "metadata": {},
   "outputs": [],
   "source": [
    "// A `Batches` defined on this:\n",
    "let batchesGenerator = BatchesGenerator(of: 64, from: trainingSet, and: validationSet, \\.collated)"
   ]
  },
  {
   "cell_type": "code",
   "execution_count": 23,
   "metadata": {},
   "outputs": [
    {
     "name": "stdout",
     "output_type": "stream",
     "text": [
      "[64, 224, 224, 3]\n",
      "[64, 224, 224, 3]\n",
      "[64, 224, 224, 3]\n",
      "[64, 224, 224, 3]\n",
      "[64, 224, 224, 3]\n",
      "[64, 224, 224, 3]\n",
      "[64, 224, 224, 3]\n",
      "[64, 224, 224, 3]\n",
      "[64, 224, 224, 3]\n",
      "[64, 224, 224, 3]\n",
      "[64, 224, 224, 3]\n",
      "[64, 224, 224, 3]\n"
     ]
    }
   ],
   "source": [
    "let (trainingBatches, validationBatches) = batchesGenerator.nextEpoch()\n",
    "for b in trainingBatches { print(b.shape) }\n",
    "for b in validationBatches { print(b.shape) }"
   ]
  },
  {
   "cell_type": "code",
   "execution_count": null,
   "metadata": {},
   "outputs": [],
   "source": []
  }
 ],
 "metadata": {
  "jupytext": {
   "split_at_heading": true
  },
  "kernelspec": {
   "display_name": "Swift",
   "language": "swift",
   "name": "swift"
  },
  "language_info": {
   "file_extension": ".swift",
   "mimetype": "text/x-swift",
   "name": "swift",
   "version": ""
  }
 },
 "nbformat": 4,
 "nbformat_minor": 2
}
