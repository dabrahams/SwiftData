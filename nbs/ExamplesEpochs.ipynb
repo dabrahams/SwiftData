{
 "cells": [
  {
   "cell_type": "code",
   "execution_count": 1,
   "metadata": {},
   "outputs": [
    {
     "name": "stdout",
     "output_type": "stream",
     "text": [
      "Installing packages:\n",
      "\t.package(path: \"../../..\")\n",
      "\t\tEpochs\n",
      "With SwiftPM flags: []\n",
      "Working in: /tmp/tmp3o5h9y5d/swift-install\n",
      "/home/sgugger/swift/usr/bin/swift-build: /home/sgugger/anaconda3/lib/libcurl.so.4: no version information available (required by /home/sgugger/swift/usr/lib/swift/linux/libFoundationNetworking.so)\n",
      "[1/2] Compiling jupyterInstalledPackages jupyterInstalledPackages.swift\n",
      "[2/3] Merging module jupyterInstalledPackages\n",
      "Initializing Swift...\n",
      "Installation complete!\n"
     ]
    }
   ],
   "source": [
    "%install-location $cwd/swift-install\n",
    "%install '.package(path: \"../../..\")' Epochs"
   ]
  },
  {
   "cell_type": "code",
   "execution_count": 2,
   "metadata": {},
   "outputs": [],
   "source": [
    "import TensorFlow\n",
    "import Epochs"
   ]
  },
  {
   "cell_type": "code",
   "execution_count": 3,
   "metadata": {},
   "outputs": [
    {
     "name": "stdout",
     "output_type": "stream",
     "text": [
      "[64, 224, 224, 3]\n",
      "[64, 224, 224, 3]\n",
      "[64, 224, 224, 3]\n",
      "[64, 224, 224, 3]\n",
      "[64, 224, 224, 3]\n",
      "[64, 224, 224, 3]\n",
      "[64, 224, 224, 3]\n",
      "[64, 224, 224, 3]\n"
     ]
    }
   ],
   "source": [
    "// Base use\n",
    "// Some raw items (for instance filenames)\n",
    "let rawItems = 0..<512\n",
    "// A heavy-compute function lazily mapped on it (for instance, opening the images)\n",
    "let dataSet = rawItems.lazy.map { _ in Tensor<Float>(randomNormal: [224, 224, 3]) }\n",
    "// A `Batches` defined on this:\n",
    "let batches = Batches(of: 64, from: dataSet, \\.collated)\n",
    "// Iteration over it:\n",
    "for batch in batches {\n",
    "    print(batch.shape)\n",
    "}"
   ]
  },
  {
   "cell_type": "code",
   "execution_count": 4,
   "metadata": {},
   "outputs": [
    {
     "name": "stdout",
     "output_type": "stream",
     "text": [
      "Batches<Array<Tensor<Float>>, Tensor<Float>>\r\n"
     ]
    }
   ],
   "source": [
    "// Enabling shuffle\n",
    "let batches = Batches(of: 64, from: dataSet.shuffled(), \\.collated)\n",
    "// This should absolutely not be done this way because it traverses the collection:\n",
    "print(type(of: batches))"
   ]
  },
  {
   "cell_type": "code",
   "execution_count": 5,
   "metadata": {},
   "outputs": [
    {
     "name": "stdout",
     "output_type": "stream",
     "text": [
      "Batches<LazyMapSequence<Array<Int>, Tensor<Float>>, Tensor<Float>>\r\n"
     ]
    }
   ],
   "source": [
    "// We need to actually go back to raw collection:\n",
    "let dataSet = rawItems.shuffled().lazy.map { _ in Tensor<Float>(randomNormal: [224, 224, 3]) }\n",
    "let batches = Batches(of: 64, from: dataSet, \\.collated)\n",
    "print(type(of: batches))"
   ]
  },
  {
   "cell_type": "code",
   "execution_count": 5,
   "metadata": {},
   "outputs": [
    {
     "name": "stdout",
     "output_type": "stream",
     "text": [
      "[64, 199]\n",
      "[64, 198]\n",
      "[64, 200]\n",
      "[64, 196]\n",
      "[64, 196]\n",
      "[64, 196]\n",
      "[64, 197]\n",
      "[64, 198]\n"
     ]
    }
   ],
   "source": [
    "// Use with padding\n",
    "// Let's create an array of things of various lengths (for instance texts)\n",
    "var dataSet: [Tensor<Int32>] = []\n",
    "for _ in 0..<512 {\n",
    "    dataSet.append(Tensor<Int32>(\n",
    "        randomUniform: [Int.random(in: 1...200)], \n",
    "        lowerBound: Tensor<Int32>(0), \n",
    "        upperBound: Tensor<Int32>(100)\n",
    "    ))\n",
    "}\n",
    "\n",
    "// We need to pad those tensors to make them all the same length.\n",
    "// We could do this in one lazy transform applied beforehand and pad everything\n",
    "// to the same length, but it's not memory-efficient: some batches might need less\n",
    "// padding. So we need to add the padding after having selected the samples we\n",
    "// are trying to batch.\n",
    "let batches = Batches(of: 64, from: dataSet) { $0.collatedAndTailPadded(with: 0) }\n",
    "for b in batches {\n",
    "    print(b.shape)\n",
    "}"
   ]
  },
  {
   "cell_type": "code",
   "execution_count": 6,
   "metadata": {},
   "outputs": [
    {
     "name": "stdout",
     "output_type": "stream",
     "text": [
      "[64, 200]\n",
      "[64, 179]\n",
      "[64, 153]\n",
      "[64, 128]\n",
      "[64, 102]\n",
      "[64, 81]\n",
      "[64, 54]\n",
      "[64, 29]\n"
     ]
    }
   ],
   "source": [
    "// Use with a sampler\n",
    "// In our previous example, another way to be memory efficient is to batch\n",
    "// samples of roughly the same lengths.\n",
    "let sortedDataset = dataSet.sorted { $0.shape[0] > $1.shape[0] }\n",
    "\n",
    "let batches = Batches(of: 64, from: sortedDataset) { $0.collatedAndTailPadded(with: 0) }\n",
    "for b in batches {\n",
    "    print(b.shape)\n",
    "}"
   ]
  },
  {
   "cell_type": "code",
   "execution_count": 7,
   "metadata": {},
   "outputs": [
    {
     "name": "stdout",
     "output_type": "stream",
     "text": [
      "[64, 199]\n",
      "[64, 150]\n",
      "[64, 99]\n",
      "[64, 56]\n",
      "[64, 200]\n",
      "[64, 154]\n",
      "[64, 102]\n",
      "[64, 51]\n"
     ]
    }
   ],
   "source": [
    "// When using a `batchSize` we get a bit of shuffle:\n",
    "let sortedDataset = dataSet.shuffled().sortedInBatches(of: 256) { $0.shape[0] > $1.shape[0] }\n",
    "\n",
    "let batches = Batches(of: 64, from: sortedDataset) { $0.collatedAndTailPadded(with: 0) }\n",
    "for b in batches {\n",
    "    print(b.shape)\n",
    "}"
   ]
  },
  {
   "cell_type": "code",
   "execution_count": 8,
   "metadata": {},
   "outputs": [],
   "source": [
    "struct LanguageModelDataset<Texts: RandomAccessCollection> where Texts.Element == [Int] {\n",
    "    /// The underlying collection of texts\n",
    "    public var texts: Texts\n",
    "    /// The length of the samples returned when indexing\n",
    "    private let sequenceLength: Int\n",
    "    // The texts all concatenated together\n",
    "    private var stream: [Int]\n",
    "    \n",
    "    init(texts: Texts, sequenceLength: Int) {\n",
    "        self.texts = texts\n",
    "        self.sequenceLength = sequenceLength\n",
    "        stream = texts.reduce([], +)\n",
    "    }\n",
    "}"
   ]
  },
  {
   "cell_type": "code",
   "execution_count": 9,
   "metadata": {},
   "outputs": [],
   "source": [
    "extension LanguageModelDataset: RandomAccessCollection {\n",
    "    public typealias Index = Int\n",
    "    public typealias Element = Tensor<Int32>\n",
    "    \n",
    "    public var startIndex: Int { return 0 }\n",
    "    public var endIndex: Int { return stream.count / sequenceLength }\n",
    "    public func index(after i: Int) -> Int { i+1 }\n",
    "    \n",
    "    public subscript(index: Int) -> Tensor<Int32> {\n",
    "        get { \n",
    "            let i = index * sequenceLength\n",
    "            return Tensor<Int32>(stream[i..<i+sequenceLength].map { Int32($0)} )\n",
    "        }\n",
    "    }\n",
    "}"
   ]
  },
  {
   "cell_type": "code",
   "execution_count": 10,
   "metadata": {},
   "outputs": [],
   "source": [
    "//Let's create such a DataSet\n",
    "let numbers: [[Int]] = [[1,2,3,4,5], [6,7,8], [9,10,11,12,13,14,15], [16,17,18]]\n",
    "var dataset = LanguageModelDataset(texts: numbers, sequenceLength: 3)"
   ]
  },
  {
   "cell_type": "code",
   "execution_count": 11,
   "metadata": {},
   "outputs": [
    {
     "name": "stdout",
     "output_type": "stream",
     "text": [
      "[[1, 2, 3],\r\n",
      " [4, 5, 6],\r\n",
      " [7, 8, 9]]\r\n",
      "[[10, 11, 12],\r\n",
      " [13, 14, 15],\r\n",
      " [16, 17, 18]]\r\n"
     ]
    }
   ],
   "source": [
    "//Now let's look at what it gives us:\n",
    "let batches = Batches(of: 3, from: dataset, \\.collated)\n",
    "for b in batches {\n",
    "    print(b)\n",
    "}"
   ]
  },
  {
   "cell_type": "code",
   "execution_count": 12,
   "metadata": {},
   "outputs": [
    {
     "name": "stdout",
     "output_type": "stream",
     "text": [
      "[[ 9, 10, 11],\r\n",
      " [12, 13, 14],\r\n",
      " [15,  1,  2]]\r\n",
      "[[ 3,  4,  5],\r\n",
      " [16, 17, 18],\r\n",
      " [ 6,  7,  8]]\r\n"
     ]
    }
   ],
   "source": [
    "var dataset = LanguageModelDataset(texts: numbers.shuffled(), sequenceLength: 3)\n",
    "let batches = Batches(of: 3, from: dataset, \\.collated)\n",
    "for b in batches {\n",
    "    print(b)\n",
    "}"
   ]
  },
  {
   "cell_type": "markdown",
   "metadata": {},
   "source": [
    "## `BatchesGenerator`"
   ]
  },
  {
   "cell_type": "code",
   "execution_count": 13,
   "metadata": {},
   "outputs": [],
   "source": [
    "// Base use\n",
    "// Some raw items (for instance filenames)\n",
    "let rawItems = 0..<512\n",
    "// A heavy-compute function lazily mapped on it (for instance, opening the images)\n",
    "let trainingSet = Samples(on: Array(0..<512)) {  $0.lazy.map { _ in Tensor<Float>(randomNormal: [224, 224, 3]) } }\n",
    "let validationSet = Samples(on: Array(0..<256)) {  $0.lazy.map { _ in Tensor<Float>(randomNormal: [224, 224, 3]) } }"
   ]
  },
  {
   "cell_type": "code",
   "execution_count": 14,
   "metadata": {},
   "outputs": [],
   "source": [
    "// A `Batches` defined on this:\n",
    "let batchesGenerator = BatchesGenerator(of: 64, from: trainingSet, and: validationSet, \\.collated)"
   ]
  },
  {
   "cell_type": "code",
   "execution_count": 15,
   "metadata": {},
   "outputs": [
    {
     "name": "stdout",
     "output_type": "stream",
     "text": [
      "[64, 224, 224, 3]\n",
      "[64, 224, 224, 3]\n",
      "[64, 224, 224, 3]\n",
      "[64, 224, 224, 3]\n",
      "[64, 224, 224, 3]\n",
      "[64, 224, 224, 3]\n",
      "[64, 224, 224, 3]\n",
      "[64, 224, 224, 3]\n",
      "[64, 224, 224, 3]\n",
      "[64, 224, 224, 3]\n",
      "[64, 224, 224, 3]\n",
      "[64, 224, 224, 3]\n"
     ]
    }
   ],
   "source": [
    "let (trainingBatches, validationBatches) = batchesGenerator.nextEpoch()\n",
    "for b in trainingBatches { print(b.shape) }\n",
    "for b in validationBatches { print(b.shape) }"
   ]
  },
  {
   "cell_type": "code",
   "execution_count": null,
   "metadata": {},
   "outputs": [],
   "source": []
  }
 ],
 "metadata": {
  "jupytext": {
   "split_at_heading": true
  },
  "kernelspec": {
   "display_name": "Swift",
   "language": "swift",
   "name": "swift"
  },
  "language_info": {
   "file_extension": ".swift",
   "mimetype": "text/x-swift",
   "name": "swift",
   "version": ""
  }
 },
 "nbformat": 4,
 "nbformat_minor": 2
}
