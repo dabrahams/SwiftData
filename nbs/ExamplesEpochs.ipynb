{
 "cells": [
  {
   "cell_type": "code",
   "execution_count": 1,
   "metadata": {},
   "outputs": [
    {
     "name": "stdout",
     "output_type": "stream",
     "text": [
      "Installing packages:\n",
      "\t.package(path: \"../../..\")\n",
      "\t\tEpochs\n",
      "With SwiftPM flags: []\n",
      "Working in: /tmp/tmpf4au_rlp/swift-install\n",
      "[1/2] Compiling Epochs Batches.swift\n",
      "[2/3] Compiling Epochs Collatable.swift\n",
      "[3/4] Merging module Epochs\n",
      "[4/7] Wrapping AST for Epochs for debugging\n",
      "[5/7] Compiling jupyterInstalledPackages jupyterInstalledPackages.swift\n",
      "[6/8] Merging module jupyterInstalledPackages\n",
      "[7/7] Linking libjupyterInstalledPackages.so\n",
      "Initializing Swift...\n",
      "Installation complete!\n"
     ]
    }
   ],
   "source": [
    "%install-location $cwd/swift-install\n",
    "%install '.package(path: \"../../..\")' Epochs"
   ]
  },
  {
   "cell_type": "code",
   "execution_count": 2,
   "metadata": {},
   "outputs": [],
   "source": [
    "import TensorFlow\n",
    "import Epochs"
   ]
  },
  {
   "cell_type": "code",
   "execution_count": 3,
   "metadata": {},
   "outputs": [
    {
     "name": "stdout",
     "output_type": "stream",
     "text": [
      "[64, 224, 224, 3]\n",
      "[64, 224, 224, 3]\n",
      "[64, 224, 224, 3]\n",
      "[64, 224, 224, 3]\n",
      "[64, 224, 224, 3]\n",
      "[64, 224, 224, 3]\n",
      "[64, 224, 224, 3]\n",
      "[64, 224, 224, 3]\n"
     ]
    }
   ],
   "source": [
    "// Base use\n",
    "// Some raw items (for instance filenames)\n",
    "let rawItems = 0..<512\n",
    "// A heavy-compute function lazily mapped on it (for instance, opening the images)\n",
    "let dataSet = rawItems.lazy.map { _ in Tensor<Float>(randomNormal: [224, 224, 3]) }\n",
    "// A `Batches` defined on this:\n",
    "let batches = Batches(of: 64, from: dataSet, \\.collated)\n",
    "// Iteration over it:\n",
    "for batch in batches {\n",
    "    print(batch.shape)\n",
    "}"
   ]
  },
  {
   "cell_type": "code",
   "execution_count": 4,
   "metadata": {},
   "outputs": [],
   "source": [
    "// Enabling shuffle\n",
    "let batches = Batches(of: 64, from: dataSet.shuffled(), \\.collated)"
   ]
  },
  {
   "cell_type": "code",
   "execution_count": 5,
   "metadata": {},
   "outputs": [
    {
     "ename": "",
     "evalue": "",
     "output_type": "error",
     "traceback": [
      "error: <Cell 5>:32:22: error: incorrect argument labels in call (have 'on:batchSize:makeBatch:', expected 'of:from:by:')\nlet batches = Batches(on: dataSet, batchSize: 64, makeBatch: makeBatchWithPadding)\n                     ^~~           ~~~~~~~~~      ~~~~~~~~~\n                      of           from           by\n\nerror: <Cell 5>:32:27: error: cannot convert value of type '[Tensor<Int32>]' to expected argument type 'Int'\nlet batches = Batches(on: dataSet, batchSize: 64, makeBatch: makeBatchWithPadding)\n                          ^\n\nerror: <Cell 5>:32:15: error: generic struct 'Batches' requires that 'Int' conform to 'Collection'\nlet batches = Batches(on: dataSet, batchSize: 64, makeBatch: makeBatchWithPadding)\n              ^\n\n"
     ]
    }
   ],
   "source": [
    "// Use with padding\n",
    "// Let's create an array of things of various lengths (for instance texts)\n",
    "var dataSet: [Tensor<Int32>] = []\n",
    "for _ in 0..<512 {\n",
    "    dataSet.append(Tensor<Int32>(\n",
    "        randomUniform: [Int.random(in: 1...200)], \n",
    "        lowerBound: Tensor<Int32>(0), \n",
    "        upperBound: Tensor<Int32>(100)\n",
    "    ))\n",
    "}\n",
    "\n",
    "// We need to pad those tensors to make them all the same length.\n",
    "// We could do this in one lazy transform applied beforehand and pad everything\n",
    "// to the same length, but it's not memory-efficient: some batches might need less\n",
    "// padding. So we need to add the padding after having selected the samples we\n",
    "// are trying to batch.\n",
    "public func padTensors<Tensors: Collection>(tensors: Tensors) -> [Tensor<Int32>]\n",
    "where Tensors.Element==Tensor<Int32> {\n",
    "    let maxLength = tensors.map{ $0.shape[0] }.max()!\n",
    "    return tensors.map { (t: Tensor<Int32>) -> Tensor<Int32> in \n",
    "        let remaining = Tensor<Int32>(zeros: [maxLength - t.shape[0]])\n",
    "        return Tensor<Int32>(concatenating: [t, remaining])\n",
    "    }\n",
    "}\n",
    "\n",
    "func makeBatchWithPadding<BatchSamples: Collection>(samples: BatchSamples) -> Tensor<Int32>\n",
    "where BatchSamples.Element==Tensor<Int32>\n",
    "{\n",
    "    return .init(collating: padTensors(tensors: samples))\n",
    "}\n",
    "\n",
    "let batches = Batches(on: dataSet, batchSize: 64, makeBatch: makeBatchWithPadding)\n",
    "for b in batches {\n",
    "    print(b.shape)\n",
    "}"
   ]
  },
  {
   "cell_type": "code",
   "execution_count": null,
   "metadata": {},
   "outputs": [],
   "source": [
    "// Use with a sampler\n",
    "// In our previous example, another way to be memory efficient is to batch\n",
    "// samples of roughly the same lengths.\n",
    "let sortedDataset = dataSet.sortedInBatches() { $0.shape[0] > $1.shape[0] }\n",
    "\n",
    "let batches = Batches(on: sortedDataset, batchSize: 64, makeBatch: makeBatchWithPadding)\n",
    "for b in batches {\n",
    "    print(b.shape)\n",
    "}"
   ]
  },
  {
   "cell_type": "code",
   "execution_count": null,
   "metadata": {},
   "outputs": [],
   "source": [
    "// When using a `batchSize` we get a bit of shuffle:\n",
    "let sortedDataset = dataSet.shuffled().sortedInBatches(batchSize: 256) { $0.shape[0] > $1.shape[0] }\n",
    "\n",
    "let batches = Batches(on: sortedDataset, batchSize: 64, makeBatch: makeBatchWithPadding)\n",
    "for b in batches {\n",
    "    print(b.shape)\n",
    "}"
   ]
  },
  {
   "cell_type": "code",
   "execution_count": null,
   "metadata": {},
   "outputs": [],
   "source": [
    "struct LanguageModelDataset<Texts: RandomAccessCollection> where Texts.Element == [Int] {\n",
    "    /// The underlying collection of texts\n",
    "    public var texts: Texts\n",
    "    /// The length of the samples returned when indexing\n",
    "    private let sequenceLength: Int\n",
    "    // The texts all concatenated together\n",
    "    private var stream: [Int]\n",
    "    \n",
    "    init(texts: Texts, sequenceLength: Int) {\n",
    "        self.texts = texts\n",
    "        self.sequenceLength = sequenceLength\n",
    "        stream = texts.reduce([], +)\n",
    "    }\n",
    "}"
   ]
  },
  {
   "cell_type": "code",
   "execution_count": null,
   "metadata": {},
   "outputs": [],
   "source": [
    "extension LanguageModelDataset: RandomAccessCollection {\n",
    "    public typealias Index = Int\n",
    "    public typealias Element = Tensor<Int32>\n",
    "    \n",
    "    public var startIndex: Int { return 0 }\n",
    "    public var endIndex: Int { return stream.count / sequenceLength }\n",
    "    public func index(after i: Int) -> Int { i+1 }\n",
    "    \n",
    "    public subscript(index: Int) -> Tensor<Int32> {\n",
    "        get { \n",
    "            let i = index * sequenceLength\n",
    "            return Tensor<Int32>(stream[i..<i+sequenceLength].map { Int32($0)} )\n",
    "        }\n",
    "    }\n",
    "}"
   ]
  },
  {
   "cell_type": "code",
   "execution_count": null,
   "metadata": {},
   "outputs": [],
   "source": [
    "//Let's create such a DataSet\n",
    "let numbers: [[Int]] = [[1,2,3,4,5], [6,7,8], [9,10,11,12,13,14,15], [16,17,18]]\n",
    "var dataset = LanguageModelDataset(texts: numbers, sequenceLength: 3)"
   ]
  },
  {
   "cell_type": "code",
   "execution_count": null,
   "metadata": {},
   "outputs": [],
   "source": [
    "//Now let's look at what it gives us:\n",
    "let batches = Batches(of: 3, from: dataset, \\.collated)\n",
    "for b in batches {\n",
    "    print(b)\n",
    "}"
   ]
  },
  {
   "cell_type": "code",
   "execution_count": null,
   "metadata": {},
   "outputs": [],
   "source": [
    "var dataset = LanguageModelDataset(texts: numbers.shuffled(), sequenceLength: 3)\n",
    "let batches = Batches(of: 3, from: dataset, \\.collated)\n",
    "for b in batches {\n",
    "    print(b)\n",
    "}"
   ]
  },
  {
   "cell_type": "code",
   "execution_count": null,
   "metadata": {},
   "outputs": [],
   "source": []
  }
 ],
 "metadata": {
  "jupytext": {
   "split_at_heading": true
  },
  "kernelspec": {
   "display_name": "Swift",
   "language": "swift",
   "name": "swift"
  },
  "language_info": {
   "file_extension": ".swift",
   "mimetype": "text/x-swift",
   "name": "swift",
   "version": ""
  }
 },
 "nbformat": 4,
 "nbformat_minor": 2
}
