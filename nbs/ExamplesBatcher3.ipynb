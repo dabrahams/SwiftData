{
 "cells": [
  {
   "cell_type": "code",
   "execution_count": 1,
   "metadata": {},
   "outputs": [
    {
     "name": "stdout",
     "output_type": "stream",
     "text": [
      "Installing packages:\n",
      "\t.package(path: \"~/git/SwiftData\")\n",
      "\t\tBatcher3\n",
      "With SwiftPM flags: []\n",
      "Working in: /tmp/tmp9yl3uiqt/swift-install\n",
      "/home/sgugger/swift/usr/bin/swift-build: /home/sgugger/anaconda3/lib/libcurl.so.4: no version information available (required by /home/sgugger/swift/usr/lib/swift/linux/libFoundationNetworking.so)\n",
      "swift: /swift-base/llvm-project/llvm/include/llvm/ADT/PointerUnion.h:195: T llvm::PointerUnion<swift::ProtocolDecl *, swift::ProtocolConformance *>::get() const [PTs = <swift::ProtocolDecl *, swift::ProtocolConformance *>, T = swift::ProtocolConformance *]: Assertion `is<T>() && \"Invalid accessor called\"' failed.\n",
      "Stack dump:\n",
      "0.\tProgram arguments: /home/sgugger/swift/usr/bin/swift -frontend -c /home/sgugger/git/SwiftData/Batcher3/Backend.swift -primary-file /home/sgugger/git/SwiftData/Batcher3/Batcher.swift /home/sgugger/git/SwiftData/Batcher3/Collatable.swift -emit-module-path /home/sgugger/git/SwiftData/nbs/swift-install/package/.build/x86_64-unknown-linux-gnu/debug/Batcher3.build/Batcher~partial.swiftmodule -emit-module-doc-path /home/sgugger/git/SwiftData/nbs/swift-install/package/.build/x86_64-unknown-linux-gnu/debug/Batcher3.build/Batcher~partial.swiftdoc -emit-module-source-info-path /home/sgugger/git/SwiftData/nbs/swift-install/package/.build/x86_64-unknown-linux-gnu/debug/Batcher3.build/Batcher~partial.swiftsourceinfo -emit-dependencies-path /home/sgugger/git/SwiftData/nbs/swift-install/package/.build/x86_64-unknown-linux-gnu/debug/Batcher3.build/Batcher.d -emit-reference-dependencies-path /home/sgugger/git/SwiftData/nbs/swift-install/package/.build/x86_64-unknown-linux-gnu/debug/Batcher3.build/Batcher.swiftdeps -target x86_64-unknown-linux-gnu -disable-objc-interop -I /home/sgugger/git/SwiftData/nbs/swift-install/package/.build/x86_64-unknown-linux-gnu/debug -enable-testing -g -module-cache-path /home/sgugger/git/SwiftData/nbs/swift-install/package/.build/x86_64-unknown-linux-gnu/debug/ModuleCache -swift-version 4.2 -Onone -D SWIFT_PACKAGE -D DEBUG -enable-anonymous-context-mangled-names -parse-as-library -module-name Batcher3 -o /home/sgugger/git/SwiftData/nbs/swift-install/package/.build/x86_64-unknown-linux-gnu/debug/Batcher3.build/Batcher.swift.o -index-store-path /home/sgugger/git/SwiftData/nbs/swift-install/package/.build/x86_64-unknown-linux-gnu/debug/index/store -index-system-modules \n",
      "1.\tSwift version 5.2-dev (LLVM b3057cffb6, Swift 876410c06b)\n",
      "2.\tWhile evaluating request SILGenSourceFileRequest(SIL Generation for file \"/home/sgugger/git/SwiftData/Batcher3/Batcher.swift\")\n",
      "3.\tWhile generating SIL witness table protocol conformance to 'Collection' (in module 'Swift') for type 'Batcher<SourceDataSet>' (declared at [/home/sgugger/git/SwiftData/Batcher3/Batcher.swift:18:8 - line:69:1] RangeText=\"class Batcher<SourceDataSet: RandomAccessCollection> \n",
      "where SourceDataSet.Element: Collatable {\n",
      "    public typealias Element = SourceDataSet.Element\n",
      "    /// The dataset to get the batches from.\n",
      "    public var dataset: SourceDataSet\n",
      "    /// The size of each batch.\n",
      "    public var batchSize: Int\n",
      "    /// Optionally set a limit to the number of threads used.\n",
      "    public var threadsLimit: Int? = nil\n",
      "    /// If `true`, drop the last batch if it has less elements than `batchSize`.\n",
      "    public var droppingLast: Bool = false\n",
      "    \n",
      "    var indices: [Int]\n",
      "    \n",
      "    public init(\n",
      "        on dataset: SourceDataSet, \n",
      "        batchSize: Int, \n",
      "        threadsLimit: Int? = nil, \n",
      "        droppingLast: Bool = false\n",
      "    ) {\n",
      "        self.dataset = dataset\n",
      "        self.batchSize = batchSize\n",
      "        self.threadsLimit = threadsLimit\n",
      "        self.droppingLast = droppingLast\n",
      "        indices = []\n",
      "        indices = sampleIndices(on: dataset)\n",
      "    }\n",
      "    \n",
      "    /// Returns the elements of `0..<dataset.count`.\n",
      "    ///\n",
      "    /// - Note: subclass and override this function to customize how indices are\n",
      "    ///   sampled\n",
      "    func sampleIndices(on dataset: SourceDataSet) -> [Int] {\n",
      "        return Array(0..<dataset.count)\n",
      "    }\n",
      "    \n",
      "    /// Returns `indices` shuffled.\n",
      "    ///\n",
      "    /// - Note: subclass and override this function to customize how indices are\n",
      "    ///   shuffled\n",
      "    func shuffleIndices(on dataset: inout SourceDataSet, indices: [Int]) -> [Int] {\n",
      "        return indices.shuffled()\n",
      "    }\n",
      "    \n",
      "    /// Returns `samples`.\n",
      "    ///\n",
      "    /// - Note: subclass and override this function to customize how samples are\n",
      "    ///   padded\n",
      "    func padSamples(samples: [SourceDataSet.Element]) -> [SourceDataSet.Element] {\n",
      "        return samples\n",
      "    }\n",
      "\")\n",
      "4.\tWhile generating protocol witness thunk SIL function \"@$s8Batcher37BatcherCyqd__GSlAASl7isEmptySbvgTW\".\n",
      " for getter for isEmpty (in module 'Swift')\n",
      "/home/sgugger/swift/usr/bin/swift[0x505d4a4]\n",
      "/home/sgugger/swift/usr/bin/swift[0x505b09e]\n",
      "/home/sgugger/swift/usr/bin/swift[0x505d75c]\n",
      "/lib/x86_64-linux-gnu/libpthread.so.0(+0x12890)[0x7f3828ef7890]\n",
      "/lib/x86_64-linux-gnu/libc.so.6(gsignal+0xc7)[0x7f3827f27e97]\n",
      "/lib/x86_64-linux-gnu/libc.so.6(abort+0x141)[0x7f3827f29801]\n",
      "/lib/x86_64-linux-gnu/libc.so.6(+0x3039a)[0x7f3827f1939a]\n",
      "/lib/x86_64-linux-gnu/libc.so.6(+0x30412)[0x7f3827f19412]\n",
      "/home/sgugger/swift/usr/bin/swift[0x90065d]\n",
      "/home/sgugger/swift/usr/bin/swift[0x9004ab]\n",
      "/home/sgugger/swift/usr/bin/swift[0x900ddf]\n",
      "/home/sgugger/swift/usr/bin/swift[0x900973]\n",
      "/home/sgugger/swift/usr/bin/swift[0x9552ea]\n",
      "/home/sgugger/swift/usr/bin/swift[0x95798c]\n",
      "/home/sgugger/swift/usr/bin/swift[0x957778]\n",
      "/home/sgugger/swift/usr/bin/swift[0x9572c1]\n",
      "/home/sgugger/swift/usr/bin/swift[0x1759959]\n",
      "/home/sgugger/swift/usr/bin/swift[0x17598de]\n",
      "/home/sgugger/swift/usr/bin/swift[0x956dc3]\n",
      "/home/sgugger/swift/usr/bin/swift[0x95429d]\n",
      "/home/sgugger/swift/usr/bin/swift[0x9566e6]\n",
      "/home/sgugger/swift/usr/bin/swift[0x95662d]\n",
      "/home/sgugger/swift/usr/bin/swift[0x890b7c]\n",
      "/home/sgugger/swift/usr/bin/swift[0x8906c2]\n",
      "/home/sgugger/swift/usr/bin/swift[0x94819c]\n",
      "/home/sgugger/swift/usr/bin/swift[0x896b55]\n",
      "/home/sgugger/swift/usr/bin/swift[0x8921b4]\n",
      "/home/sgugger/swift/usr/bin/swift[0x508d56]\n",
      "/home/sgugger/swift/usr/bin/swift[0x505f9a]\n",
      "/home/sgugger/swift/usr/bin/swift[0x48e568]\n",
      "/lib/x86_64-linux-gnu/libc.so.6(__libc_start_main+0xe7)[0x7f3827f0ab97]\n",
      "/home/sgugger/swift/usr/bin/swift[0x48e11a]\n"
     ]
    },
    {
     "ename": "",
     "evalue": "",
     "output_type": "error",
     "traceback": [
      "Install Error: swift-build returned nonzero exit code 1."
     ]
    }
   ],
   "source": [
    "%install-location $cwd/swift-install\n",
    "%install '.package(path: \"~/git/SwiftData\")' Batcher3"
   ]
  },
  {
   "cell_type": "code",
   "execution_count": 2,
   "metadata": {},
   "outputs": [],
   "source": [
    "import TensorFlow\n",
    "import Batcher3"
   ]
  },
  {
   "cell_type": "code",
   "execution_count": 3,
   "metadata": {},
   "outputs": [
    {
     "name": "stdout",
     "output_type": "stream",
     "text": [
      "[64, 224, 224, 3]\n",
      "[64, 224, 224, 3]\n",
      "[64, 224, 224, 3]\n",
      "[64, 224, 224, 3]\n",
      "[64, 224, 224, 3]\n",
      "[64, 224, 224, 3]\n",
      "[64, 224, 224, 3]\n",
      "[64, 224, 224, 3]\n"
     ]
    }
   ],
   "source": [
    "// Base use\n",
    "// Some raw items (for instance filenames)\n",
    "let rawItems = 0..<512\n",
    "// A heavy-compute function lazily mapped on it (for instance, opening the images)\n",
    "let dataSet = rawItems.lazy.map { _ in Tensor<Float>(randomNormal: [224, 224, 3]) }\n",
    "// A `Batcher` defined on this:\n",
    "var batcher = Batcher(on: dataSet, batchSize: 64)\n",
    "// Iteration over it (for instance, on epoch of the training loop) \n",
    "batcher.reorder(shuffled: true)\n",
    "for batch in batcher {\n",
    "    print(batch.shape)\n",
    "}"
   ]
  },
  {
   "cell_type": "code",
   "execution_count": 35,
   "metadata": {},
   "outputs": [
    {
     "name": "stdout",
     "output_type": "stream",
     "text": [
      "[64, 200]\r\n",
      "[64, 197]\r\n",
      "[64, 200]\r\n",
      "[64, 199]\r\n",
      "[64, 199]\r\n",
      "[64, 192]\r\n",
      "[64, 199]\r\n",
      "[64, 198]\r\n"
     ]
    }
   ],
   "source": [
    "// Use with padding\n",
    "// Let's create an array of things of various lengths (for instance texts)\n",
    "var dataSet: [Tensor<Int32>] = []\n",
    "for _ in 0..<512 {\n",
    "    dataSet.append(Tensor<Int32>(\n",
    "        randomUniform: [Int.random(in: 1...200)], \n",
    "        lowerBound: Tensor<Int32>(0), \n",
    "        upperBound: Tensor<Int32>(100)\n",
    "    ))\n",
    "}\n",
    "\n",
    "// We need to pad those tensors to make them all the same length.\n",
    "// We could do this in one lazy transform applied beforehand and pad everything\n",
    "// to the same length, but it's not memory-efficient: some batches might need less\n",
    "// padding. So we need to add the padding after having selected the samples we\n",
    "// are trying to batch.\n",
    "public struct BasicPaddingTemplate<SourceDataSet: RandomAccessCollection>: BatcherTemplate \n",
    "where SourceDataSet.Element == Tensor<Int32> {\n",
    "    public func padSamples(samples: [Tensor<Int32>]) -> [Tensor<Int32>] {\n",
    "        let maxLength = samples.map{ $0.shape[0] }.max()!\n",
    "        return samples.map { (t: Tensor<Int32>) -> Tensor<Int32> in \n",
    "            let remaining = Tensor<Int32>(zeros: [maxLength - t.shape[0]])\n",
    "            return Tensor<Int32>(concatenating: [t, remaining])\n",
    "        }\n",
    "    }\n",
    "}\n",
    "\n",
    "var batcher = Batcher(with: BasicPaddingTemplate(), on: dataSet, batchSize: 64)\n",
    "batcher.reorder()\n",
    "for b in batcher {\n",
    "    print(b.shape)\n",
    "}"
   ]
  },
  {
   "cell_type": "code",
   "execution_count": 37,
   "metadata": {},
   "outputs": [
    {
     "name": "stdout",
     "output_type": "stream",
     "text": [
      "[64, 200]\r\n",
      "[64, 173]\r\n",
      "[64, 147]\r\n",
      "[64, 124]\r\n",
      "[64, 96]\r\n",
      "[64, 71]\r\n",
      "[64, 46]\r\n",
      "[64, 23]\r\n"
     ]
    }
   ],
   "source": [
    "// Use with a sampler\n",
    "// In our previous example, another way to be memory efficient is to batch\n",
    "// samples of roughly the same lengths.\n",
    "public struct AdvancedPaddingTemplate<SourceDataSet: RandomAccessCollection>: BatcherTemplate \n",
    "where SourceDataSet.Element == Tensor<Int32> {\n",
    "    public func padSamples(samples: [Tensor<Int32>]) -> [Tensor<Int32>] {\n",
    "        let maxLength = samples.map{ $0.shape[0] }.max()!\n",
    "        return samples.map { (t: Tensor<Int32>) -> Tensor<Int32> in \n",
    "            let remaining = Tensor<Int32>(zeros: [maxLength - t.shape[0]])\n",
    "            return Tensor<Int32>(concatenating: [t, remaining])\n",
    "        }\n",
    "    }\n",
    "    \n",
    "    public func sampleIndices(on dataset: [Tensor<Int32>]) -> [Int] {\n",
    "        return Array(0..<dataset.count).sorted { dataset[$0].shape[0] > dataset[$1].shape[0] }\n",
    "    }\n",
    "}\n",
    "\n",
    "// Just giving a quick example, but there should be a separate function to shuffle a bit \n",
    "// the sorted thing\n",
    "var batcher = Batcher<AdvancedPaddingTemplate<[Tensor<Int32>]>, [Tensor<Int32>]>(with: AdvancedPaddingTemplate(), on: dataSet, batchSize: 64)\n",
    "batcher.reorder()\n",
    "for b in batcher {\n",
    "    print(b.shape)\n",
    "}"
   ]
  },
  {
   "cell_type": "code",
   "execution_count": 38,
   "metadata": {},
   "outputs": [],
   "source": [
    "// Sometimes the shuffle method needs to be applied on the dataset itself, \n",
    "// like for language modeling. Here is a base version of that to test\n",
    "// the API allows it.\n",
    "struct DataSet: RandomAccessCollection {\n",
    "    typealias Index = Int\n",
    "    typealias Element = Tensor<Int32>\n",
    "    \n",
    "    let numbers: [[Int]]\n",
    "    let sequenceLength: Int\n",
    "    // The texts all concatenated together\n",
    "    private var stream: [Int]\n",
    "    \n",
    "    var startIndex: Int { return 0 }\n",
    "    var endIndex: Int { return stream.count / sequenceLength }\n",
    "    func index(after i: Int) -> Int { i+1 }\n",
    "    \n",
    "    init(numbers: [[Int]], sequenceLength: Int) {\n",
    "        self.numbers = numbers\n",
    "        self.sequenceLength = sequenceLength\n",
    "        stream = numbers.reduce([], +)\n",
    "    }\n",
    "    \n",
    "    subscript(index: Int) -> Tensor<Int32> {\n",
    "        get { \n",
    "            let i = index * sequenceLength\n",
    "            return Tensor<Int32>(stream[i..<i+sequenceLength].map { Int32($0)} )\n",
    "        }\n",
    "    }\n",
    "    \n",
    "    mutating func shuffle() {\n",
    "        stream = numbers.shuffled().reduce([], +)\n",
    "    }\n",
    "}"
   ]
  },
  {
   "cell_type": "code",
   "execution_count": 39,
   "metadata": {},
   "outputs": [],
   "source": [
    "//Let's create such a DataSet\n",
    "let numbers: [[Int]] = [[1,2,3,4,5], [6,7,8], [9,10,11,12,13,14,15], [16,17,18]]\n",
    "let dataset = DataSet(numbers: numbers, sequenceLength: 3)"
   ]
  },
  {
   "cell_type": "code",
   "execution_count": 44,
   "metadata": {},
   "outputs": [],
   "source": [
    "public struct ShufflingTemplate: BatcherTemplate {\n",
    "    public typealias SourceDataSet = DataSet \n",
    "    public func shuffleIndices(on dataset: inout DataSet, indices: [Int]) -> [Int] {\n",
    "        dataset.shuffle()\n",
    "        return indices\n",
    "    }\n",
    "}"
   ]
  },
  {
   "cell_type": "code",
   "execution_count": 45,
   "metadata": {},
   "outputs": [
    {
     "name": "stdout",
     "output_type": "stream",
     "text": [
      "[[1, 2, 3],\r\n",
      " [4, 5, 6],\r\n",
      " [7, 8, 9]]\r\n",
      "[[10, 11, 12],\r\n",
      " [13, 14, 15],\r\n",
      " [16, 17, 18]]\r\n"
     ]
    }
   ],
   "source": [
    "//Now let's look at what it gives us:\n",
    "var batcher = Batcher(with: ShufflingTemplate(), on: dataset, batchSize: 3)\n",
    "batcher.reorder()\n",
    "for b in batcher {\n",
    "    print(b)\n",
    "}"
   ]
  },
  {
   "cell_type": "code",
   "execution_count": 46,
   "metadata": {},
   "outputs": [
    {
     "name": "stdout",
     "output_type": "stream",
     "text": [
      "[[ 9, 10, 11],\r\n",
      " [12, 13, 14],\r\n",
      " [15,  6,  7]]\r\n",
      "[[ 8, 16, 17],\r\n",
      " [18,  1,  2],\r\n",
      " [ 3,  4,  5]]\r\n"
     ]
    }
   ],
   "source": [
    "batcher.reorder(shuffled: true)\n",
    "for b in batcher {\n",
    "    print(b)\n",
    "}"
   ]
  },
  {
   "cell_type": "code",
   "execution_count": null,
   "metadata": {},
   "outputs": [],
   "source": []
  }
 ],
 "metadata": {
  "jupytext": {
   "split_at_heading": true
  },
  "kernelspec": {
   "display_name": "Swift",
   "language": "swift",
   "name": "swift"
  },
  "language_info": {
   "file_extension": ".swift",
   "mimetype": "text/x-swift",
   "name": "swift",
   "version": ""
  }
 },
 "nbformat": 4,
 "nbformat_minor": 2
}
