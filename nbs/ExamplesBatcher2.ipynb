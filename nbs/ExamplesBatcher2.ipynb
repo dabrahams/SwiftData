{
 "cells": [
  {
   "cell_type": "code",
   "execution_count": 1,
   "metadata": {},
   "outputs": [
    {
     "name": "stdout",
     "output_type": "stream",
     "text": [
      "Installing packages:\n",
      "\t.package(path: \"~/git/SwiftData\")\n",
      "\t\tBatcher2\n",
      "With SwiftPM flags: []\n",
      "Working in: /tmp/tmp13gph_f_/swift-install\n",
      "/home/sgugger/swift/usr/bin/swift-build: /home/sgugger/anaconda3/lib/libcurl.so.4: no version information available (required by /home/sgugger/swift/usr/lib/swift/linux/libFoundationNetworking.so)\n",
      "[1/2] Compiling jupyterInstalledPackages jupyterInstalledPackages.swift\n",
      "[2/3] Merging module jupyterInstalledPackages\n",
      "Initializing Swift...\n",
      "Installation complete!\n"
     ]
    }
   ],
   "source": [
    "%install-location $cwd/swift-install\n",
    "%install '.package(path: \"~/git/SwiftData\")' Batcher2"
   ]
  },
  {
   "cell_type": "code",
   "execution_count": 2,
   "metadata": {},
   "outputs": [],
   "source": [
    "import TensorFlow\n",
    "import Batcher2"
   ]
  },
  {
   "cell_type": "code",
   "execution_count": 4,
   "metadata": {},
   "outputs": [
    {
     "name": "stdout",
     "output_type": "stream",
     "text": [
      "[64, 224, 224, 3]\n",
      "[64, 224, 224, 3]\n",
      "[64, 224, 224, 3]\n",
      "[64, 224, 224, 3]\n",
      "[64, 224, 224, 3]\n",
      "[64, 224, 224, 3]\n",
      "[64, 224, 224, 3]\n",
      "[64, 224, 224, 3]\n"
     ]
    }
   ],
   "source": [
    "// Base use\n",
    "// Some raw items (for instance filenames)\n",
    "let rawItems = 0..<512\n",
    "// A heavy-compute function lazily mapped on it (for instance, opening the images)\n",
    "let dataSet = rawItems.lazy.map { _ in Tensor<Float>(randomNormal: [224, 224, 3]) }\n",
    "// A `Batcher` defined on this:\n",
    "var batcher = Batcher(on: dataSet, batchSize: 64)\n",
    "// Iteration over it (for instance, on epoch of the training loop) \n",
    "batcher.reorder(shuffled: true)\n",
    "for batch in batcher {\n",
    "    print(batch.shape)\n",
    "}"
   ]
  },
  {
   "cell_type": "code",
   "execution_count": 5,
   "metadata": {},
   "outputs": [],
   "source": [
    "public func padSamples(samples: [Tensor<Int32>]) -> [Tensor<Int32>] {\n",
    "    let maxLength = samples.map{ $0.shape[0] }.max()!\n",
    "    return samples.map { (t: Tensor<Int32>) -> Tensor<Int32> in \n",
    "        let remaining = Tensor<Int32>(zeros: [maxLength - t.shape[0]])\n",
    "        return Tensor<Int32>(concatenating: [t, remaining])\n",
    "    }\n",
    "}"
   ]
  },
  {
   "cell_type": "code",
   "execution_count": 14,
   "metadata": {},
   "outputs": [],
   "source": [
    "struct LabeledText: Collatable {\n",
    "    public var data: Tensor<Int32>\n",
    "    public var label: Tensor<Int32>\n",
    "    \n",
    "    public init(data: Tensor<Int32>, label: Tensor<Int32>) {\n",
    "        self.data = data\n",
    "        self.label = label\n",
    "    }\n",
    "    \n",
    "    public init(collating samples: [Self]) {\n",
    "        self.init(data: Tensor<Int32>(stacking: padSamples(samples: samples.map { $0.data })),\n",
    "                  label: Tensor<Int32>(stacking: samples.map { $0.label }))\n",
    "    }\n",
    "}"
   ]
  },
  {
   "cell_type": "code",
   "execution_count": null,
   "metadata": {},
   "outputs": [],
   "source": [
    "var batcher = Batcher(with: BasicPaddingTemplate(), on: dataSet, batchSize: 64)\n",
    "batcher.reorder()\n",
    "for b in batcher {\n",
    "    print(b.shape)\n",
    "}"
   ]
  },
  {
   "cell_type": "code",
   "execution_count": null,
   "metadata": {},
   "outputs": [],
   "source": [
    "public func padSamples(samples: [Tensor<Int32>]) -> [Tensor<Int32>] {\n",
    "    let maxLength = samples.map{ $0.shape[0] }.max()!\n",
    "    return samples.map { (t: Tensor<Int32>) -> Tensor<Int32> in \n",
    "        let remaining = Tensor<Int32>(zeros: [maxLength - t.shape[0]])\n",
    "        return Tensor<Int32>(concatenating: [t, remaining])\n",
    "    }\n",
    "}"
   ]
  },
  {
   "cell_type": "code",
   "execution_count": null,
   "metadata": {},
   "outputs": [],
   "source": [
    "public init(collating samples: [Self]) {\n",
    "        let paddedSamples = padSamples(samples)\n",
    "        self.init(data: Tensor<Int32>(stacking: samples.map { $0.data }),\n",
    "                  label: Tensor<Int32>(stacking: samples.map { $0.label }))\n",
    "    }"
   ]
  },
  {
   "cell_type": "code",
   "execution_count": 35,
   "metadata": {},
   "outputs": [
    {
     "name": "stdout",
     "output_type": "stream",
     "text": [
      "[64, 200]\r\n",
      "[64, 197]\r\n",
      "[64, 200]\r\n",
      "[64, 199]\r\n",
      "[64, 199]\r\n",
      "[64, 192]\r\n",
      "[64, 199]\r\n",
      "[64, 198]\r\n"
     ]
    }
   ],
   "source": [
    "// Use with padding\n",
    "// Let's create an array of things of various lengths (for instance texts)\n",
    "var dataSet: [Tensor<Int32>] = []\n",
    "for _ in 0..<512 {\n",
    "    dataSet.append(Tensor<Int32>(\n",
    "        randomUniform: [Int.random(in: 1...200)], \n",
    "        lowerBound: Tensor<Int32>(0), \n",
    "        upperBound: Tensor<Int32>(100)\n",
    "    ))\n",
    "}\n",
    "\n",
    "// We need to pad those tensors to make them all the same length.\n",
    "// We could do this in one lazy transform applied beforehand and pad everything\n",
    "// to the same length, but it's not memory-efficient: some batches might need less\n",
    "// padding. So we need to add the padding after having selected the samples we\n",
    "// are trying to batch.\n",
    "public struct BasicPaddingTemplate<SourceDataSet: RandomAccessCollection>: BatcherTemplate \n",
    "where SourceDataSet.Element == Tensor<Int32> {\n",
    "    public func padSamples(samples: [Tensor<Int32>]) -> [Tensor<Int32>] {\n",
    "        let maxLength = samples.map{ $0.shape[0] }.max()!\n",
    "        return samples.map { (t: Tensor<Int32>) -> Tensor<Int32> in \n",
    "            let remaining = Tensor<Int32>(zeros: [maxLength - t.shape[0]])\n",
    "            return Tensor<Int32>(concatenating: [t, remaining])\n",
    "        }\n",
    "    }\n",
    "}\n",
    "\n",
    "var batcher = Batcher(with: BasicPaddingTemplate(), on: dataSet, batchSize: 64)\n",
    "batcher.reorder()\n",
    "for b in batcher {\n",
    "    print(b.shape)\n",
    "}"
   ]
  },
  {
   "cell_type": "code",
   "execution_count": 37,
   "metadata": {},
   "outputs": [
    {
     "name": "stdout",
     "output_type": "stream",
     "text": [
      "[64, 200]\r\n",
      "[64, 173]\r\n",
      "[64, 147]\r\n",
      "[64, 124]\r\n",
      "[64, 96]\r\n",
      "[64, 71]\r\n",
      "[64, 46]\r\n",
      "[64, 23]\r\n"
     ]
    }
   ],
   "source": [
    "// Use with a sampler\n",
    "// In our previous example, another way to be memory efficient is to batch\n",
    "// samples of roughly the same lengths.\n",
    "public struct AdvancedPaddingTemplate<SourceDataSet: RandomAccessCollection>: BatcherTemplate \n",
    "where SourceDataSet.Element == Tensor<Int32> {\n",
    "    public func padSamples(samples: [Tensor<Int32>]) -> [Tensor<Int32>] {\n",
    "        let maxLength = samples.map{ $0.shape[0] }.max()!\n",
    "        return samples.map { (t: Tensor<Int32>) -> Tensor<Int32> in \n",
    "            let remaining = Tensor<Int32>(zeros: [maxLength - t.shape[0]])\n",
    "            return Tensor<Int32>(concatenating: [t, remaining])\n",
    "        }\n",
    "    }\n",
    "    \n",
    "    public func sampleIndices(on dataset: [Tensor<Int32>]) -> [Int] {\n",
    "        return Array(0..<dataset.count).sorted { dataset[$0].shape[0] > dataset[$1].shape[0] }\n",
    "    }\n",
    "}\n",
    "\n",
    "// Just giving a quick example, but there should be a separate function to shuffle a bit \n",
    "// the sorted thing\n",
    "var batcher = Batcher<AdvancedPaddingTemplate<[Tensor<Int32>]>, [Tensor<Int32>]>(with: AdvancedPaddingTemplate(), on: dataSet, batchSize: 64)\n",
    "batcher.reorder()\n",
    "for b in batcher {\n",
    "    print(b.shape)\n",
    "}"
   ]
  },
  {
   "cell_type": "code",
   "execution_count": 38,
   "metadata": {},
   "outputs": [],
   "source": [
    "// Sometimes the shuffle method needs to be applied on the dataset itself, \n",
    "// like for language modeling. Here is a base version of that to test\n",
    "// the API allows it.\n",
    "struct DataSet: RandomAccessCollection {\n",
    "    typealias Index = Int\n",
    "    typealias Element = Tensor<Int32>\n",
    "    \n",
    "    let numbers: [[Int]]\n",
    "    let sequenceLength: Int\n",
    "    // The texts all concatenated together\n",
    "    private var stream: [Int]\n",
    "    \n",
    "    var startIndex: Int { return 0 }\n",
    "    var endIndex: Int { return stream.count / sequenceLength }\n",
    "    func index(after i: Int) -> Int { i+1 }\n",
    "    \n",
    "    init(numbers: [[Int]], sequenceLength: Int) {\n",
    "        self.numbers = numbers\n",
    "        self.sequenceLength = sequenceLength\n",
    "        stream = numbers.reduce([], +)\n",
    "    }\n",
    "    \n",
    "    subscript(index: Int) -> Tensor<Int32> {\n",
    "        get { \n",
    "            let i = index * sequenceLength\n",
    "            return Tensor<Int32>(stream[i..<i+sequenceLength].map { Int32($0)} )\n",
    "        }\n",
    "    }\n",
    "    \n",
    "    mutating func shuffle() {\n",
    "        stream = numbers.shuffled().reduce([], +)\n",
    "    }\n",
    "}"
   ]
  },
  {
   "cell_type": "code",
   "execution_count": 39,
   "metadata": {},
   "outputs": [],
   "source": [
    "//Let's create such a DataSet\n",
    "let numbers: [[Int]] = [[1,2,3,4,5], [6,7,8], [9,10,11,12,13,14,15], [16,17,18]]\n",
    "let dataset = DataSet(numbers: numbers, sequenceLength: 3)"
   ]
  },
  {
   "cell_type": "code",
   "execution_count": 44,
   "metadata": {},
   "outputs": [],
   "source": [
    "public struct ShufflingTemplate: BatcherTemplate {\n",
    "    public typealias SourceDataSet = DataSet \n",
    "    public func shuffleIndices(on dataset: inout DataSet, indices: [Int]) -> [Int] {\n",
    "        dataset.shuffle()\n",
    "        return indices\n",
    "    }\n",
    "}"
   ]
  },
  {
   "cell_type": "code",
   "execution_count": 45,
   "metadata": {},
   "outputs": [
    {
     "name": "stdout",
     "output_type": "stream",
     "text": [
      "[[1, 2, 3],\r\n",
      " [4, 5, 6],\r\n",
      " [7, 8, 9]]\r\n",
      "[[10, 11, 12],\r\n",
      " [13, 14, 15],\r\n",
      " [16, 17, 18]]\r\n"
     ]
    }
   ],
   "source": [
    "//Now let's look at what it gives us:\n",
    "var batcher = Batcher(with: ShufflingTemplate(), on: dataset, batchSize: 3)\n",
    "batcher.reorder()\n",
    "for b in batcher {\n",
    "    print(b)\n",
    "}"
   ]
  },
  {
   "cell_type": "code",
   "execution_count": 46,
   "metadata": {},
   "outputs": [
    {
     "name": "stdout",
     "output_type": "stream",
     "text": [
      "[[ 9, 10, 11],\r\n",
      " [12, 13, 14],\r\n",
      " [15,  6,  7]]\r\n",
      "[[ 8, 16, 17],\r\n",
      " [18,  1,  2],\r\n",
      " [ 3,  4,  5]]\r\n"
     ]
    }
   ],
   "source": [
    "batcher.reorder(shuffled: true)\n",
    "for b in batcher {\n",
    "    print(b)\n",
    "}"
   ]
  },
  {
   "cell_type": "code",
   "execution_count": null,
   "metadata": {},
   "outputs": [],
   "source": []
  }
 ],
 "metadata": {
  "jupytext": {
   "split_at_heading": true
  },
  "kernelspec": {
   "display_name": "Swift",
   "language": "swift",
   "name": "swift"
  },
  "language_info": {
   "file_extension": ".swift",
   "mimetype": "text/x-swift",
   "name": "swift",
   "version": ""
  }
 },
 "nbformat": 4,
 "nbformat_minor": 2
}
