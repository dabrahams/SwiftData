{
 "cells": [
  {
   "cell_type": "code",
   "execution_count": 1,
   "metadata": {},
   "outputs": [
    {
     "name": "stdout",
     "output_type": "stream",
     "text": [
      "Installing packages:\n",
      "\t.package(url: \"https://github.com/mxcl/Path.swift\", from: \"0.16.1\")\n",
      "\t\tPath\n",
      "\t.package(path: \"~/git/SwiftData\")\n",
      "\t\tSwiftData\n",
      "With SwiftPM flags: []\n",
      "Working in: /tmp/tmpaumxofm4/swift-install\n",
      "warning: /home/sgugger/swift/usr/bin/swiftc: /home/sgugger/anaconda3/lib/libuuid.so.1: no version information available (required by /home/sgugger/swift/usr/bin/swiftc)\n",
      "/home/sgugger/swift/usr/bin/swift: /home/sgugger/anaconda3/lib/libuuid.so.1: no version information available (required by /home/sgugger/swift/usr/bin/swift)\n",
      "warning: /home/sgugger/swift/usr/bin/swiftc: /home/sgugger/anaconda3/lib/libuuid.so.1: no version information available (required by /home/sgugger/swift/usr/bin/swiftc)\n",
      "/home/sgugger/swift/usr/bin/swift: /home/sgugger/anaconda3/lib/libuuid.so.1: no version information available (required by /home/sgugger/swift/usr/bin/swift)\n",
      "warning: /home/sgugger/swift/usr/bin/swiftc: /home/sgugger/anaconda3/lib/libuuid.so.1: no version information available (required by /home/sgugger/swift/usr/bin/swiftc)\n",
      "/home/sgugger/swift/usr/bin/swift: /home/sgugger/anaconda3/lib/libuuid.so.1: no version information available (required by /home/sgugger/swift/usr/bin/swift)\n",
      "/home/sgugger/swift/usr/bin/swiftc: /home/sgugger/anaconda3/lib/libuuid.so.1: no version information available (required by /home/sgugger/swift/usr/bin/swiftc)\n",
      "/home/sgugger/swift/usr/bin/swiftc: /home/sgugger/anaconda3/lib/libuuid.so.1: no version information available (required by /home/sgugger/swift/usr/bin/swiftc)[1/2] Compiling SwiftData Templates.swift\n",
      "/home/sgugger/swift/usr/bin/swift: /home/sgugger/anaconda3/lib/libuuid.so.1: no version information available (required by /home/sgugger/swift/usr/bin/swift)\n",
      "[2/3] Merging module SwiftData\n",
      "/home/sgugger/swift/usr/bin/swift: /home/sgugger/anaconda3/lib/libuuid.so.1: no version information available (required by /home/sgugger/swift/usr/bin/swift)\n",
      "/home/sgugger/swift/usr/bin/swiftc: /home/sgugger/anaconda3/lib/libuuid.so.1: no version information available (required by /home/sgugger/swift/usr/bin/swiftc)\n",
      "/home/sgugger/swift/usr/bin/swiftc: /home/sgugger/anaconda3/lib/libuuid.so.1: no version information available (required by /home/sgugger/swift/usr/bin/swiftc)[3/5] Wrapping AST for SwiftData for debugging\n",
      "[4/6] Compiling jupyterInstalledPackages jupyterInstalledPackages.swift\n",
      "/home/sgugger/swift/usr/bin/swift: /home/sgugger/anaconda3/lib/libuuid.so.1: no version information available (required by /home/sgugger/swift/usr/bin/swift)\n",
      "[5/7] Merging module jupyterInstalledPackages\n",
      "/home/sgugger/swift/usr/bin/swift: /home/sgugger/anaconda3/lib/libuuid.so.1: no version information available (required by /home/sgugger/swift/usr/bin/swift)\n",
      "/home/sgugger/swift/usr/bin/swiftc: /home/sgugger/anaconda3/lib/libuuid.so.1: no version information available (required by /home/sgugger/swift/usr/bin/swiftc)\n",
      "/home/sgugger/swift/usr/bin/swift-autolink-extract: /home/sgugger/anaconda3/lib/libuuid.so.1: no version information available (required by /home/sgugger/swift/usr/bin/swift-autolink-extract)\n",
      "[6/6] Linking libjupyterInstalledPackages.so\n",
      "Initializing Swift...\n",
      "Installation complete!\n"
     ]
    }
   ],
   "source": [
    "%install-location $cwd/swift-install\n",
    "%install '.package(url: \"https://github.com/mxcl/Path.swift\", from: \"0.16.1\")' Path\n",
    "//%install '.package(url: \"https://github.com/sgugger/SwiftData.git\", .branch(\"master\"))' SwiftData\n",
    "%install '.package(path: \"~/git/SwiftData\")' SwiftData"
   ]
  },
  {
   "cell_type": "code",
   "execution_count": 2,
   "metadata": {},
   "outputs": [],
   "source": [
    "import Path\n",
    "import TensorFlow\n",
    "import SwiftData\n",
    "import Foundation"
   ]
  },
  {
   "cell_type": "markdown",
   "metadata": {},
   "source": [
    "## Understanding the language model template"
   ]
  },
  {
   "cell_type": "code",
   "execution_count": 6,
   "metadata": {},
   "outputs": [],
   "source": [
    "let dataset = [[0,1,2,3,4],[5,6,7,8,9,10],[11,12,13,14,15,16,17,18],[19,20],[21,22]]"
   ]
  },
  {
   "cell_type": "code",
   "execution_count": 7,
   "metadata": {},
   "outputs": [],
   "source": [
    "let lengths = dataset.map{ $0.count }"
   ]
  },
  {
   "cell_type": "code",
   "execution_count": 8,
   "metadata": {},
   "outputs": [],
   "source": [
    "let template = LanguageModelTemplate(openItem: { $0 }, batchSize: 4, sequenceLength: 3, lengths: lengths)"
   ]
  },
  {
   "cell_type": "code",
   "execution_count": 10,
   "metadata": {},
   "outputs": [],
   "source": [
    "let batcher = Batcher(from: template, on: dataset, batchSize: 4, numWorkers: 4)"
   ]
  },
  {
   "cell_type": "code",
   "execution_count": 11,
   "metadata": {},
   "outputs": [
    {
     "name": "stdout",
     "output_type": "stream",
     "text": [
      "([[ 0,  1,  2],\r\n",
      " [ 5,  6,  7],\r\n",
      " [10, 11, 12],\r\n",
      " [15, 16, 17]], [[ 1,  2,  3],\r\n",
      " [ 6,  7,  8],\r\n",
      " [11, 12, 13],\r\n",
      " [16, 17, 18]])\r\n",
      "([[ 3,  4],\r\n",
      " [ 8,  9],\r\n",
      " [13, 14],\r\n",
      " [18, 19]], [[ 4,  5],\r\n",
      " [ 9, 10],\r\n",
      " [14, 15],\r\n",
      " [19, 20]])\r\n"
     ]
    }
   ],
   "source": [
    "for x in batcher { print(x) }"
   ]
  },
  {
   "cell_type": "code",
   "execution_count": 14,
   "metadata": {},
   "outputs": [],
   "source": [
    "let batcher = Batcher(from: template, on: dataset, batchSize: 4, numWorkers: 4, shuffle: true)"
   ]
  },
  {
   "cell_type": "code",
   "execution_count": 15,
   "metadata": {},
   "outputs": [
    {
     "name": "stdout",
     "output_type": "stream",
     "text": [
      "([[ 5,  6,  7],\r\n",
      " [10, 19, 20],\r\n",
      " [ 2,  3,  4],\r\n",
      " [11, 12, 13]], [[ 6,  7,  8],\r\n",
      " [19, 20,  0],\r\n",
      " [ 3,  4, 21],\r\n",
      " [12, 13, 14]])\r\n",
      "([[ 8,  9],\r\n",
      " [ 0,  1],\r\n",
      " [21, 22],\r\n",
      " [14, 15]], [[ 9, 10],\r\n",
      " [ 1,  2],\r\n",
      " [22, 11],\r\n",
      " [15, 16]])\r\n"
     ]
    }
   ],
   "source": [
    "for x in batcher { print(x) }"
   ]
  },
  {
   "cell_type": "markdown",
   "metadata": {},
   "source": [
    "## IMDB dataset"
   ]
  },
  {
   "cell_type": "code",
   "execution_count": 16,
   "metadata": {},
   "outputs": [],
   "source": [
    "let dataPath = Path.home/\".fastai\"/\"data\"\n",
    "let path = dataPath/\"imdb_tok\""
   ]
  },
  {
   "cell_type": "code",
   "execution_count": 17,
   "metadata": {},
   "outputs": [],
   "source": [
    "let fnames = collectFiles(under: path/\"train\", recurse: true, filtering: [\"txt\"])"
   ]
  },
  {
   "cell_type": "code",
   "execution_count": 18,
   "metadata": {},
   "outputs": [
    {
     "data": {
      "text/plain": [
       "25000\n"
      ]
     },
     "execution_count": 18,
     "metadata": {},
     "output_type": "execute_result"
    }
   ],
   "source": [
    "fnames.count"
   ]
  },
  {
   "cell_type": "code",
   "execution_count": 19,
   "metadata": {},
   "outputs": [],
   "source": [
    "func readTokenizedText(_ fname: Path, separator: Character = \" \") -> [String] {\n",
    "    let text = try! String(contentsOf: URL(fileURLWithPath: fname.string), encoding: .utf8)\n",
    "    return text.split(separator: separator).map { String($0) }\n",
    "}"
   ]
  },
  {
   "cell_type": "code",
   "execution_count": 25,
   "metadata": {},
   "outputs": [],
   "source": [
    "func countTokens(_ fnames: [Path]) -> ([Int], [String:Int]) {\n",
    "    var counts: [String:Int] = [:]\n",
    "    var lengths: [Int] = []\n",
    "    for fname in fnames {\n",
    "        let tokens = readTokenizedText(fname)\n",
    "        lengths.append(tokens.count)\n",
    "        for t in tokens {\n",
    "            counts[t] = (counts[t] ?? 0) + 1\n",
    "        }\n",
    "    }\n",
    "    return (lengths,counts)\n",
    "}"
   ]
  },
  {
   "cell_type": "code",
   "execution_count": 26,
   "metadata": {},
   "outputs": [],
   "source": [
    "let (lengths, counts) = countTokens(fnames)"
   ]
  },
  {
   "cell_type": "code",
   "execution_count": 27,
   "metadata": {},
   "outputs": [],
   "source": [
    "func makeVocab(_ counts: [String:Int], minFreq: Int = 2, maxCount: Int = 60000) -> (itos: [Int:String], stoi: [String:Int]) {\n",
    "    let withoutSpec = counts.filter { $0.0 != \"xxunk\" && $0.0 != \"xxpad\" }\n",
    "    let sorted = withoutSpec.sorted { $0.1 > $1.1 }\n",
    "    var itos: [Int:String] = [0:\"xxunk\", 1:\"xxpad\"]\n",
    "    var stoi: [String:Int] = [\"xxunk\":0, \"xxpad\":1]\n",
    "    for (i,x) in sorted.enumerated() {\n",
    "        if i+2 >= maxCount || x.1 < minFreq { break }\n",
    "        itos[i+2] = (x.0)\n",
    "        stoi[x.0] = i+2\n",
    "    }\n",
    "    return (itos: itos, stoi: stoi)\n",
    "}"
   ]
  },
  {
   "cell_type": "code",
   "execution_count": 28,
   "metadata": {},
   "outputs": [],
   "source": [
    "let vocab = makeVocab(counts)"
   ]
  },
  {
   "cell_type": "code",
   "execution_count": 29,
   "metadata": {},
   "outputs": [],
   "source": [
    "func numericalize(_ tokens: [String], with stoi: [String:Int]) -> [Int] {\n",
    "    return tokens.map { stoi[$0] ?? 0 }\n",
    "}"
   ]
  },
  {
   "cell_type": "code",
   "execution_count": 30,
   "metadata": {},
   "outputs": [
    {
     "data": {
      "text/plain": [
       "374\n"
      ]
     },
     "execution_count": 30,
     "metadata": {},
     "output_type": "execute_result"
    }
   ],
   "source": [
    "let tst = readTokenizedText(fnames[0])\n",
    "tst.count"
   ]
  },
  {
   "cell_type": "code",
   "execution_count": 31,
   "metadata": {},
   "outputs": [
    {
     "data": {
      "text/plain": [
       "374\n"
      ]
     },
     "execution_count": 31,
     "metadata": {},
     "output_type": "execute_result"
    }
   ],
   "source": [
    "lengths[0]"
   ]
  },
  {
   "cell_type": "markdown",
   "metadata": {},
   "source": [
    "### Language model"
   ]
  },
  {
   "cell_type": "code",
   "execution_count": 33,
   "metadata": {},
   "outputs": [],
   "source": [
    "let template = LanguageModelTemplate(openItem: { numericalize(readTokenizedText($0), with: vocab.stoi) }, \n",
    "                                            batchSize: 64, sequenceLength: 72, lengths: lengths)"
   ]
  },
  {
   "cell_type": "code",
   "execution_count": 34,
   "metadata": {},
   "outputs": [],
   "source": [
    "let batcher = Batcher(from: template, on: fnames, batchSize: 64, numWorkers: 4, shuffle: true)"
   ]
  },
  {
   "cell_type": "code",
   "execution_count": 35,
   "metadata": {},
   "outputs": [],
   "source": [
    "let b = batcher.first {_ in true}!"
   ]
  },
  {
   "cell_type": "code",
   "execution_count": 36,
   "metadata": {},
   "outputs": [
    {
     "name": "stdout",
     "output_type": "stream",
     "text": [
      "[64, 72] [64, 72]\r\n"
     ]
    }
   ],
   "source": [
    "print(b.0.shape,b.1.shape)"
   ]
  },
  {
   "cell_type": "markdown",
   "metadata": {},
   "source": [
    "### Text classification"
   ]
  },
  {
   "cell_type": "code",
   "execution_count": 40,
   "metadata": {},
   "outputs": [
    {
     "name": "stdout",
     "output_type": "stream",
     "text": [
      "/home/sgugger/.fastai/data/imdb_tok/train/pos/10544_8.txt\r\n"
     ]
    }
   ],
   "source": [
    "print(fnames[0])"
   ]
  },
  {
   "cell_type": "code",
   "execution_count": 41,
   "metadata": {},
   "outputs": [],
   "source": [
    "let labelToInt: [String: Int] = [\"neg\":0, \"pos\":1]"
   ]
  },
  {
   "cell_type": "code",
   "execution_count": 43,
   "metadata": {},
   "outputs": [],
   "source": [
    "let template = TextClassificationTemplate(\n",
    "    openItem: { numericalize(readTokenizedText($0), with: vocab.stoi) },\n",
    "    labelFunc: { labelToInt[$0.parent.basename()]! } )"
   ]
  },
  {
   "cell_type": "code",
   "execution_count": 44,
   "metadata": {},
   "outputs": [],
   "source": [
    "let batcher = Batcher(from: template, on: fnames, batchSize: 64, numWorkers: 4, shuffle: true)"
   ]
  },
  {
   "cell_type": "code",
   "execution_count": 45,
   "metadata": {},
   "outputs": [],
   "source": [
    "let b = batcher.first {_ in true}!"
   ]
  },
  {
   "cell_type": "code",
   "execution_count": 46,
   "metadata": {},
   "outputs": [
    {
     "name": "stdout",
     "output_type": "stream",
     "text": [
      "[64, 767] [64]\r\n"
     ]
    }
   ],
   "source": [
    "print(b.0.shape,b.1.shape)"
   ]
  },
  {
   "cell_type": "code",
   "execution_count": null,
   "metadata": {},
   "outputs": [],
   "source": []
  }
 ],
 "metadata": {
  "kernelspec": {
   "display_name": "Swift",
   "language": "swift",
   "name": "swift"
  },
  "language_info": {
   "file_extension": ".swift",
   "mimetype": "text/x-swift",
   "name": "swift",
   "version": ""
  }
 },
 "nbformat": 4,
 "nbformat_minor": 2
}
